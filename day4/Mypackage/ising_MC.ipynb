{
 "cells": [
  {
   "cell_type": "code",
   "execution_count": 103,
   "id": "791bca3c",
   "metadata": {},
   "outputs": [
    {
     "name": "stderr",
     "output_type": "stream",
     "text": [
      "\u001b[32m\u001b[1m  Activating\u001b[22m\u001b[39m project at `c:\\Users\\ito23\\Documents\\学院科目\\物性物理学特論Ⅰ\\Julia\\day4\\Mypackage`\n"
     ]
    }
   ],
   "source": [
    "# パッケージのインストール（初回のみ実行）\n",
    "using Pkg\n",
    "Pkg.activate(\".\")  # 現在のディレクトリの環境をアクティブ化\n",
    "#Pkg.add(\"ITensors\")  # ITensorsパッケージをインストール\n",
    "# Pkg.add(\"Random\")\n",
    "# Pkg.add(\"Plots\")\n",
    "# Pkg.add(\"LaTeXStrings\")"
   ]
  },
  {
   "cell_type": "markdown",
   "id": "a2246be9",
   "metadata": {},
   "source": [
    "2次元格子状のisingモデル\n",
    "\\begin{equation*}\n",
    "    \\mathcal{H} = -J\\sum_{<i,j>}\\sigma_i\\sigma_j - h\\sum_{i}\\sigma_i\n",
    "\\end{equation*}\n",
    "書き換え\n",
    "\\begin{equation*}\n",
    "    \\mathcal{H} = -\\sum_{i}\\left(\\frac{J}{2}\\sigma_iS_i + h\\sigma_i\\right)\n",
    "\\end{equation*}\n",
    "ただし$S_i$はサイト$i$の周りのスピンの和\n"
   ]
  },
  {
   "cell_type": "markdown",
   "id": "113e9bb5",
   "metadata": {},
   "source": [
    "スピンの更新ルール\n",
    "\n",
    "スピン配位$C_k$が与えられ、あるスピンを反転した配位$C_k^\\prime$をつくる\n",
    "\n",
    "$\\Delta E(C_k \\to C_k^\\prime)>0$のとき\n",
    "$$\n",
    "\\exp[-\\beta\\Delta E]でC_{k+1} = C_k^\\prime \\\\\n",
    "1 - \\exp[-\\beta\\Delta E]でC_{k+1} = C_k\n",
    "$$\n",
    "$\\Delta E \\leq 0$で常に$C_{k+1} = C_k^\\prime$"
   ]
  },
  {
   "cell_type": "markdown",
   "id": "86eff563",
   "metadata": {},
   "source": [
    "設定 \n",
    "\n",
    "・$50\\times 50$格子、周期境界 \n",
    "\n",
    "・総ステップ60000、熱平衡到達ステップ10000 \n",
    "\n",
    "・測定は10001ステップから10ステップ間隔で記録、平均をとる \n",
    "\n",
    "・$k_BT/J=0\\sim 5$まで測定"
   ]
  },
  {
   "cell_type": "code",
   "execution_count": 104,
   "id": "70360891",
   "metadata": {},
   "outputs": [],
   "source": [
    "using Random\n",
    "using Plots\n",
    "using LaTeXStrings"
   ]
  },
  {
   "cell_type": "code",
   "execution_count": 105,
   "id": "42c36c8a",
   "metadata": {},
   "outputs": [
    {
     "data": {
      "text/plain": [
       "spins_init (generic function with 1 method)"
      ]
     },
     "metadata": {},
     "output_type": "display_data"
    }
   ],
   "source": [
    "# スピンの初期化\n",
    "\n",
    "# ランダム\n",
    "function spins_init(Lx, Ly, rng)\n",
    "    return rand(rng, [-1, 1], Lx, Ly)\n",
    "end\n",
    "\n",
    "# 全て1\n",
    "# function spins_init(Lx, Ly, rng)\n",
    "#     return fill(1, Lx, Ly)\n",
    "# end"
   ]
  },
  {
   "cell_type": "code",
   "execution_count": 106,
   "id": "dd6fc60c",
   "metadata": {},
   "outputs": [
    {
     "data": {
      "text/plain": [
       "Si_calc (generic function with 1 method)"
      ]
     },
     "metadata": {},
     "output_type": "display_data"
    }
   ],
   "source": [
    "# S_iの計算\n",
    "function Si_calc(Ck, ix, iy, Lx, Ly)\n",
    "    jx = ix + 1\n",
    "    if jx > Lx\n",
    "        jx -= Lx\n",
    "    end\n",
    "    Si = Ck[jx, iy]\n",
    "\n",
    "    jx = ix - 1\n",
    "    if jx < 1\n",
    "        jx += Lx\n",
    "    end\n",
    "    Si += Ck[jx, iy]\n",
    "\n",
    "    jy = iy + 1\n",
    "    if jy > Ly\n",
    "        jy -= Ly\n",
    "    end\n",
    "    Si += Ck[ix, jy]\n",
    "\n",
    "    jy = iy - 1\n",
    "    if jy < 1\n",
    "        jy += Ly\n",
    "    end\n",
    "    Si += Ck[ix, jy]\n",
    "\n",
    "    return Si\n",
    "end\n"
   ]
  },
  {
   "cell_type": "code",
   "execution_count": 107,
   "id": "ed146f67",
   "metadata": {},
   "outputs": [
    {
     "data": {
      "text/plain": [
       "E_measure (generic function with 1 method)"
      ]
     },
     "metadata": {},
     "output_type": "display_data"
    }
   ],
   "source": [
    "# エネルギーの測定\n",
    "function E_measure(Ck, J, h, Lx, Ly)\n",
    "    E = 0\n",
    "    for iy in 1:Ly, ix in 1:Lx\n",
    "        Si = Si_calc(Ck, ix, iy, Lx, Ly)\n",
    "        sigma = Ck[ix, iy]\n",
    "        E += -(J / 2) * sigma * Si - h * sigma\n",
    "    end\n",
    "    return E\n",
    "end"
   ]
  },
  {
   "cell_type": "code",
   "execution_count": 108,
   "id": "d72fe3fb",
   "metadata": {},
   "outputs": [
    {
     "data": {
      "text/plain": [
       "delta_E_calc (generic function with 1 method)"
      ]
     },
     "metadata": {},
     "output_type": "display_data"
    }
   ],
   "source": [
    "# エネルギー差の計算\n",
    "function delta_E_calc(Ck, J, h, ix, iy, Lx, Ly)\n",
    "    Si = Si_calc(Ck, ix, iy, Lx, Ly)\n",
    "    delta_E = 2 * J * Ck[ix, iy] * Si + 2 * h * Ck[ix, iy]\n",
    "    return delta_E\n",
    "end"
   ]
  },
  {
   "cell_type": "code",
   "execution_count": 109,
   "id": "e2a8a677",
   "metadata": {},
   "outputs": [
    {
     "data": {
      "text/plain": [
       "spin_correlation (generic function with 1 method)"
      ]
     },
     "metadata": {},
     "output_type": "display_data"
    }
   ],
   "source": [
    "# スピン相関の測定\n",
    "function spin_correlation(Ck, Lx, Ly)\n",
    "    mm = zeros(Lx, Ly)\n",
    "    for iy in 1:Ly, ix in 1:Lx\n",
    "        Si = Si_calc(Ck, ix, iy, Lx, Ly)\n",
    "        mm[ix, iy] = Ck[ix, iy] * Si\n",
    "    end\n",
    "    return mm\n",
    "end"
   ]
  },
  {
   "cell_type": "code",
   "execution_count": 110,
   "id": "808ac078",
   "metadata": {},
   "outputs": [
    {
     "data": {
      "text/plain": [
       "spins_update (generic function with 1 method)"
      ]
     },
     "metadata": {},
     "output_type": "display_data"
    }
   ],
   "source": [
    "# スピンの更新\n",
    "function spins_update(Ck, ix, iy, J, h, T, Lx, Ly, rng)\n",
    "    delta_E = delta_E_calc(Ck, J, h, ix, iy, Lx, Ly)\n",
    "    sigma = Ck[ix, iy]\n",
    "    if delta_E <= 0\n",
    "        return -sigma \n",
    "    else\n",
    "        p = exp(-delta_E / T)\n",
    "        return rand(rng) < p ? -sigma : sigma\n",
    "    end\n",
    "end"
   ]
  },
  {
   "cell_type": "code",
   "execution_count": 111,
   "id": "9dfa023b",
   "metadata": {},
   "outputs": [
    {
     "data": {
      "text/plain": [
       "ising_MC (generic function with 1 method)"
      ]
     },
     "metadata": {},
     "output_type": "display_data"
    }
   ],
   "source": [
    "# 物理量の測定\n",
    "function ising_MC(step_equilibration, step_MC, measure_interval, J, h, T, Lx, Ly)\n",
    "    rng = MersenneTwister(123)\n",
    "    count_measure = 0\n",
    "    E_mean = 0.0\n",
    "    E2_mean = 0.0\n",
    "    m_mean = 0.0\n",
    "    abs_m_mean = 0.0\n",
    "    mm_mean = 0.0\n",
    "\n",
    "    Ck = spins_init(Lx, Ly, rng)\n",
    "\n",
    "    for step in 1:(step_equilibration + step_MC)\n",
    "        for iy in 1:Ly, ix in 1:Lx\n",
    "            Ck[ix, iy] = spins_update(Ck, ix, iy, J, h, T, Lx, Ly, rng)\n",
    "        end\n",
    "\n",
    "        if step > step_equilibration && step % measure_interval == 0\n",
    "            count_measure += 1\n",
    "            E = E_measure(Ck, J, h, Lx, Ly) / (Lx * Ly)\n",
    "            E_mean += E\n",
    "            E2_mean += E^2\n",
    "            m = sum(Ck) / (Lx * Ly)\n",
    "            m_mean += m\n",
    "            abs_m_mean += abs(m)\n",
    "            mm = sum(spin_correlation(Ck, Lx, Ly)) / (4 * Lx * Ly)\n",
    "            mm_mean += mm\n",
    "        end\n",
    "    end\n",
    "\n",
    "    E_mean /= count_measure\n",
    "    E2_mean /= count_measure\n",
    "    m_mean /= count_measure\n",
    "    abs_m_mean /= count_measure\n",
    "    mm_mean /= count_measure\n",
    "    C_mean = (E2_mean - E_mean^2) / T^2\n",
    "\n",
    "    return E_mean, m_mean, abs_m_mean, mm_mean, C_mean\n",
    "end    "
   ]
  },
  {
   "cell_type": "code",
   "execution_count": 112,
   "id": "7d64c5f6",
   "metadata": {},
   "outputs": [
    {
     "data": {
      "text/plain": [
       "run_ising_MC (generic function with 1 method)"
      ]
     },
     "metadata": {},
     "output_type": "display_data"
    }
   ],
   "source": [
    "# 実行\n",
    "function run_ising_MC()\n",
    "    step_equilibration = 10000\n",
    "    step_MC = 50000\n",
    "    measure_interval = 10\n",
    "    J = 1.0\n",
    "    h = 0.0\n",
    "    Ts = range(0.01, 1.0, length=40)\n",
    "    Lx = 50\n",
    "    Ly = 50\n",
    "    E_T = []\n",
    "    m_T = []\n",
    "    abs_m_T = []\n",
    "    mm_T = []\n",
    "    C_T = []\n",
    "\n",
    "    for T in Ts\n",
    "        E_mean, m_mean, abs_m_mean, mm_mean, C_mean = ising_MC(step_equilibration, step_MC, measure_interval, J, h, T, Lx, Ly)\n",
    "        push!(E_T, E_mean)\n",
    "        push!(m_T, m_mean)\n",
    "        push!(abs_m_T, abs_m_mean)\n",
    "        push!(mm_T, mm_mean)\n",
    "        push!(C_T, C_mean)\n",
    "    end\n",
    "\n",
    "    plot(Ts, E_T, label=\"\", xlabel=L\"k_BT/J\", ylabel=L\"\\langle E \\rangle\", title=\"Energy vs Temperature\")\n",
    "    savefig(\"energy_vs_temperature.png\")\n",
    "    plot(Ts, m_T, label=\"\", xlabel=L\"k_BT/J\", ylabel=L\"\\langle m \\rangle\", title=\"Magnetization vs Temperature\")\n",
    "    savefig(\"magnetization_vs_temperature.png\")\n",
    "    plot(Ts, abs_m_T, label=\"\", xlabel=L\"k_BT/J\", ylabel=L\"\\langle |m| \\rangle\", title=\"Absolute Magnetization vs Temperature\")\n",
    "    savefig(\"absolute_magnetization_vs_temperature.png\")\n",
    "    plot(Ts, mm_T, label=\"\", xlabel=L\"k_BT/J\", ylabel=L\"\\langle \\sigma\\sigma^\\prime \\rangle\", title=\"Spin Correlation vs Temperature\")\n",
    "    savefig(\"spin_correlation_vs_temperature.png\")\n",
    "    plot(Ts, C_T, label=\"\", xlabel=L\"k_BT/J\", ylabel=L\"C\", title=\"Specific Heat vs Temperature\")\n",
    "    savefig(\"specific_heat_vs_temperature.png\")\n",
    "end"
   ]
  },
  {
   "cell_type": "code",
   "execution_count": 113,
   "id": "5c4e40b4",
   "metadata": {},
   "outputs": [
    {
     "data": {
      "text/plain": [
       "\"c:\\\\Users\\\\ito23\\\\Documents\\\\学院科目\\\\物性物理学特論Ⅰ\\\\Julia\\\\day4\\\\Mypackage\\\\specific_heat_vs_temperature.png\""
      ]
     },
     "metadata": {},
     "output_type": "display_data"
    }
   ],
   "source": [
    "run_ising_MC()"
   ]
  },
  {
   "cell_type": "code",
   "execution_count": null,
   "id": "ad84fb82",
   "metadata": {},
   "outputs": [],
   "source": [
    "function compress_expansion(C::NormalizedTensor, P::NormalizedTensor, chi::Int64)\n",
    "    z, w = inds(C.tensor)\n",
    "\n",
    "    D, U = eigen(C.tensor, z, w)\n",
    "    \n",
    "    n = dim(z)\n",
    "\n",
    "    p = Index(chi, \"p\")\n",
    "    q = Index(chi, \"q\")\n",
    "\n",
    "    C_compressed = ITensor(p, q)\n",
    "\n",
    "    for ii in 1:chi, jj in 1:chi\n",
    "        C_compressed[p => ii, q => jj] = D[inds(D)[1] => n - ii + 1, inds(D)[2] => n - jj + 1]\n",
    "    end"
   ]
  },
  {
   "cell_type": "code",
   "execution_count": null,
   "id": "b6233f16",
   "metadata": {},
   "outputs": [],
   "source": [
    "function compress_expansion(C::NormalizedTensor, P::NormalizedTensor, chi::Int64)\n",
    "    z, w = inds(C.tensor)\n",
    "\n",
    "    D, U = eigen(C.tensor, z, w)\n",
    "    \n",
    "    n = dim(z)\n",
    "\n",
    "    p = Index(chi, \"p\")\n",
    "    q = Index(chi, \"q\")\n",
    "\n",
    "    C_compressed = ITensor(p, q)\n",
    "\n",
    "    for ii in 1:chi, jj in 1:chi\n",
    "        C_compressed[p => ii, q => jj] = D[inds(D)[1] => n - ii + 1, inds(D)[2] => n - jj + 1]\n",
    "    end\n",
    "\n",
    "    NC_compressed = normalize_tensor(C_compressed)\n",
    "    norm_C = C.norm * NC_compressed.norm\n",
    "\n",
    "    inds_U = inds(U)\n",
    "    NU = normalize_tensor(U)\n",
    "\n",
    "    u = Index(dim(inds(U)[1]), \"u\")\n",
    "    v = Index(chi, \"v\")\n",
    "    \n",
    "    U_compressed = ITensor(u, v)\n",
    "\n",
    "    for ii in 1:n, jj in 1:chi\n",
    "        U_compressed[u => ii, v => jj] = NU.tensor[inds_U[1] => n - ii + 1, inds_U[2] => n - jj + 1]\n",
    "    end\n",
    "\n",
    "    inds_U_compressed = inds(U_compressed)\n",
    "    inds_P = inds(P.tensor)\n",
    "    n_u = dim(inds_U_compressed[1])\n",
    "    m_u = dim(inds_U_compressed[2])\n",
    "\n",
    "    a = Index(n_u, \"a\")\n",
    "    b = Index(m_u, \"b\")\n",
    "    c = Index(n_u, \"c\")\n",
    "    d = Index(m_u, \"d\")\n",
    "    e = Index(dim(inds_P[1]), \"e\")\n",
    "\n",
    "    inds_new_U_compressed_l = [a, b]\n",
    "    inds_new_U_compressed_r = [c, d]\n",
    "    inds_new_P = [e, a, c]\n",
    "\n",
    "    U_compressed_l = replaceinds(U_compressed, inds_U_compressed, inds_new_U_compressed_l)\n",
    "    U_compressed_r = replaceinds(U_compressed, inds_U_compressed, inds_new_U_compressed_r)\n",
    "    P_b = replaceinds(P.tensor, inds_P, inds_new_P)\n",
    "\n",
    "    P_compressed = P_b * U_compressed_l * U_compressed_r\n",
    "    return NormalizedTensor(NC_compressed.tensor, norm_C), NormalizedTensor(NP_compressed.tensor, norm_P)\n",
    "end"
   ]
  },
  {
   "cell_type": "code",
   "execution_count": null,
   "id": "d5f60a5c",
   "metadata": {},
   "outputs": [],
   "source": []
  }
 ],
 "metadata": {
  "kernelspec": {
   "display_name": "Julia 1.11.5",
   "language": "julia",
   "name": "julia-1.11"
  },
  "language_info": {
   "file_extension": ".jl",
   "mimetype": "application/julia",
   "name": "julia",
   "version": "1.11.5"
  }
 },
 "nbformat": 4,
 "nbformat_minor": 5
}
