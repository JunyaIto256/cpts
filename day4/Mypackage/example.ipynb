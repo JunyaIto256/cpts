{
 "cells": [
  {
   "cell_type": "code",
   "execution_count": 1,
   "id": "b1e3b403",
   "metadata": {},
   "outputs": [
    {
     "name": "stderr",
     "output_type": "stream",
     "text": [
      "\u001b[32m\u001b[1m  Activating\u001b[22m\u001b[39m project at `c:\\Users\\ito23\\Documents\\学院科目\\物性物理学特論Ⅰ\\Julia\\day4\\Mypackage`\n"
     ]
    }
   ],
   "source": [
    "# パッケージのインストール（初回のみ実行）\n",
    "using Pkg\n",
    "Pkg.activate(\".\")  # 現在のディレクトリの環境をアクティブ化\n",
    "#Pkg.add(\"ITensors\")  # ITensorsパッケージをインストール"
   ]
  },
  {
   "cell_type": "code",
   "execution_count": 2,
   "id": "00ec5d58",
   "metadata": {},
   "outputs": [],
   "source": [
    "using ITensors"
   ]
  },
  {
   "cell_type": "code",
   "execution_count": 3,
   "id": "09670797",
   "metadata": {},
   "outputs": [
    {
     "data": {
      "text/plain": [
       "(dim=2|id=852|\"l\")"
      ]
     },
     "metadata": {},
     "output_type": "display_data"
    }
   ],
   "source": [
    "# indexの定義\n",
    "i = Index(2, \"i\")\n",
    "j = Index(2, \"j\")\n",
    "k = Index(2, \"k\")\n",
    "l = Index(2, \"l\")"
   ]
  },
  {
   "cell_type": "code",
   "execution_count": null,
   "id": "35213e0f",
   "metadata": {},
   "outputs": [
    {
     "name": "stdout",
     "output_type": "stream",
     "text": [
      "2.269185314213022\n",
      "W = ITensor ord=4\n",
      "Dim 1: (dim=2|id=671|\"i\")\n",
      "Dim 2: (dim=2|id=736|\"j\")\n",
      "Dim 3: (dim=2|id=419|\"k\")\n",
      "Dim 4: (dim=2|id=852|\"l\")\n",
      "NDTensors.Dense{Float64, Vector{Float64}}\n",
      " 2×2×2×2\n",
      "[:, :, 1, 1] =\n",
      " 5.828427124746189  1.0\n",
      " 1.0                1.0\n",
      "\n",
      "[:, :, 2, 1] =\n",
      " 1.0                  1.0\n",
      " 0.17157287525380993  1.0\n",
      "\n",
      "[:, :, 1, 2] =\n",
      " 1.0  0.17157287525380993\n",
      " 1.0  1.0\n",
      "\n",
      "[:, :, 2, 2] =\n",
      " 1.0  1.0\n",
      " 1.0  5.828427124746189\n"
     ]
    },
    {
     "data": {
      "text/plain": [
       "ITensor ord=4 (dim=2|id=671|\"i\") (dim=2|id=736|\"j\") (dim=2|id=419|\"k\") (dim=2|id=852|\"l\")\n",
       "NDTensors.Dense{Float64, Vector{Float64}}"
      ]
     },
     "metadata": {},
     "output_type": "display_data"
    }
   ],
   "source": [
    "# 4脚テンソルの生成\n",
    "function tensor_4legs(K::Float64, i::Index, j::Index, k::Index, l::Index)\n",
    "    W = ITensor(i, j, k, l)\n",
    "    \n",
    "    for ii in 0:1, jj in 0:1, kk in 0:1, ll in 0:1\n",
    "        W[i => ii+1, j => jj+1, k => kk+1, l => ll+1] = exp(K * ((2 * ii - 1) * (2 * jj - 1) + (2 * jj - 1) * (2 * kk - 1) + (2 * kk - 1) * (2 * ll - 1) + (2 * ll - 1) * (2 * ii - 1)))\n",
    "    end\n",
    "\n",
    "    return W\n",
    "end\n",
    "\n",
    "J = 1.0\n",
    "k_B = 1.0\n",
    "T_C = 2 / log(1 + sqrt(2))\n",
    "K = J / k_B / T_C\n",
    "W = tensor_4legs(K, i, j, k, l)\n",
    "println(T_C)\n",
    "@show W"
   ]
  },
  {
   "cell_type": "code",
   "execution_count": 5,
   "id": "82165e83",
   "metadata": {},
   "outputs": [
    {
     "name": "stdout",
     "output_type": "stream",
     "text": [
      "P = ITensor ord=3\n",
      "Dim 1: (dim=2|id=671|\"i\")\n",
      "Dim 2: (dim=2|id=736|\"j\")\n",
      "Dim 3: (dim=2|id=419|\"k\")\n",
      "NDTensors.Dense{Float64, Vector{Float64}}\n",
      " 2×2×2\n",
      "[:, :, 1] =\n",
      " Inf   1.0\n",
      "  2.0  2.0\n",
      "\n",
      "[:, :, 2] =\n",
      " 2.0   2.0\n",
      " 1.0  Inf\n"
     ]
    },
    {
     "data": {
      "text/plain": [
       "ITensor ord=3 (dim=2|id=671|\"i\") (dim=2|id=736|\"j\") (dim=2|id=419|\"k\")\n",
       "NDTensors.Dense{Float64, Vector{Float64}}"
      ]
     },
     "metadata": {},
     "output_type": "display_data"
    }
   ],
   "source": [
    "# 3脚テンソルの生成\n",
    "function tensor_2legs(W::ITensor, l::Index)\n",
    "    P = W * delta(l)\n",
    "    \n",
    "    return P\n",
    "end\n",
    "\n",
    "P = tensor_2legs(W, l)\n",
    "@show P"
   ]
  },
  {
   "cell_type": "code",
   "execution_count": 6,
   "id": "3353e957",
   "metadata": {},
   "outputs": [
    {
     "name": "stdout",
     "output_type": "stream",
     "text": [
      "C = ITensor ord=2\n",
      "Dim 1: (dim=2|id=671|\"i\")\n",
      "Dim 2: (dim=2|id=736|\"j\")\n",
      "NDTensors.Dense{Float64, Vector{Float64}}\n",
      " 2×2\n",
      " Inf    3.0\n",
      "  3.0  Inf\n"
     ]
    },
    {
     "data": {
      "text/plain": [
       "ITensor ord=2 (dim=2|id=671|\"i\") (dim=2|id=736|\"j\")\n",
       "NDTensors.Dense{Float64, Vector{Float64}}"
      ]
     },
     "metadata": {},
     "output_type": "display_data"
    }
   ],
   "source": [
    "# 2脚テンソル生成\n",
    "function tensor_2legs(P::ITensor, k::Index)\n",
    "    C = P * delta(k)\n",
    "\n",
    "    return C\n",
    "end\n",
    "\n",
    "C = tensor_2legs(P, k)\n",
    "@show C"
   ]
  },
  {
   "cell_type": "code",
   "execution_count": 7,
   "id": "a542e362",
   "metadata": {},
   "outputs": [
    {
     "name": "stdout",
     "output_type": "stream",
     "text": [
      "P_expanded = ITensor ord=3\n",
      "Dim 1: (dim=2|id=736|\"j\")\n",
      "Dim 2: (dim=4|id=426|\"x\")\n",
      "Dim 3: (dim=4|id=386|\"y\")\n",
      "NDTensors.Dense{Float64, Vector{Float64}}\n",
      " 2×4×4\n",
      "[:, :, 1] =\n",
      " Inf  Inf  Inf   3.0\n",
      " Inf  Inf   1.0  3.0\n",
      "\n",
      "[:, :, 2] =\n",
      " Inf  NaN   3.0   2.0\n",
      " Inf   Inf  3.0  Inf\n",
      "\n",
      "[:, :, 3] =\n",
      " Inf   3.0   Inf  Inf\n",
      "  2.0  3.0  NaN   Inf\n",
      "\n",
      "[:, :, 4] =\n",
      " 3.0   1.0  Inf  Inf\n",
      " 3.0  Inf   Inf  Inf\n"
     ]
    },
    {
     "data": {
      "text/plain": [
       "ITensor ord=3 (dim=2|id=736|\"j\") (dim=4|id=426|\"x\") (dim=4|id=386|\"y\")\n",
       "NDTensors.Dense{Float64, Vector{Float64}}"
      ]
     },
     "metadata": {},
     "output_type": "display_data"
    }
   ],
   "source": [
    "# Pの拡大\n",
    "function expand_tensor_3legs(W::ITensor, P::ITensor, i::Index, j::Index, k::Index, l::Index)\n",
    "    inds_P = inds(P)\n",
    "    \n",
    "    p = Index(dim(inds_P[2]), \"p\")\n",
    "    q = Index(dim(inds_P[3]), \"q\")\n",
    "\n",
    "    inds_new_P = [l, p, q]\n",
    "\n",
    "    P_b = replaceinds(P, inds_P, inds_new_P)\n",
    "\n",
    "    P_a = W * P_b\n",
    "\n",
    "    P_expanded = P_a * combiner(i, p; tags=\"x\") * combiner(k, q; tags=\"y\")\n",
    "\n",
    "    return P_expanded\n",
    "end\n",
    "\n",
    "P_expanded = expand_tensor_3legs(W, P, i, j, k, l)\n",
    "@show P_expanded"
   ]
  },
  {
   "cell_type": "code",
   "execution_count": 8,
   "id": "2bb3a309",
   "metadata": {},
   "outputs": [
    {
     "name": "stdout",
     "output_type": "stream",
     "text": [
      "C_expanded = ITensor ord=2\n",
      "Dim 1: (dim=4|id=384|\"z\")\n",
      "Dim 2: (dim=4|id=33|\"w\")\n",
      "NDTensors.Dense{Float64, Vector{Float64}}\n",
      " 4×4\n",
      "  Inf   Inf   Inf   Inf\n",
      " NaN    Inf  NaN    Inf\n",
      "  Inf  NaN    Inf  NaN\n",
      "  Inf   Inf   Inf   Inf\n"
     ]
    },
    {
     "data": {
      "text/plain": [
       "ITensor ord=2 (dim=4|id=384|\"z\") (dim=4|id=33|\"w\")\n",
       "NDTensors.Dense{Float64, Vector{Float64}}"
      ]
     },
     "metadata": {},
     "output_type": "display_data"
    }
   ],
   "source": [
    "# Cの拡大\n",
    "function expand_tensor_2legs(W::ITensor, P::ITensor, C::ITensor, i::Index, j::Index, k::Index, l::Index)\n",
    "    inds_P = inds(P)\n",
    "    inds_C = inds(C)\n",
    "\n",
    "    p = Index(dim(inds_P[2]), \"p\")\n",
    "    q = Index(dim(inds_P[3]), \"q\")\n",
    "    r = Index(dim(inds_P[2]), \"r\")\n",
    "    s = Index(dim(inds_P[3]), \"s\")\n",
    "\n",
    "    inds_new_P_L = [i, p, q]\n",
    "    inds_new_P_R = [l, r, s]\n",
    "    inds_new_C = [q, r]\n",
    "\n",
    "    P_b_L = replaceinds(P, inds_P, inds_new_P_L)\n",
    "    P_b_R = replaceinds(P, inds_P, inds_new_P_R)\n",
    "    C_b = replaceinds(C, inds_C, inds_new_C)\n",
    "\n",
    "    C_a = W * P_b_L * P_b_R * C_b\n",
    "\n",
    "    C_expanded = C_a * combiner(j, p; tags=\"z\") * combiner(k, s; tags=\"w\")\n",
    "\n",
    "    return C_expanded\n",
    "end\n",
    "\n",
    "C_expanded = expand_tensor_2legs(W, P, C, i, j, k, l)\n",
    "@show C_expanded"
   ]
  },
  {
   "cell_type": "code",
   "execution_count": 9,
   "id": "05ffc74e",
   "metadata": {},
   "outputs": [
    {
     "data": {
      "text/plain": [
       "compress_expansion (generic function with 1 method)"
      ]
     },
     "metadata": {},
     "output_type": "display_data"
    }
   ],
   "source": [
    "# 圧縮\n",
    "function compress_expansion(P::ITensor, C::ITensor, chi::Int64)\n",
    "    x, y = inds(C)\n",
    "\n",
    "    D, U = eigen(C, x, y)\n",
    "    \n",
    "    n = dim(x)\n",
    "\n",
    "    p = Index(chi, \"p\")\n",
    "    q = Index(chi, \"q\")\n",
    "\n",
    "    C_compressed = ITensor(p, q)\n",
    "\n",
    "    for ii in 1:chi, jj in 1:chi\n",
    "        C_compressed[p => ii, q => jj] = D[inds(D)[1] => n - ii + 1, inds(D)[2] => n - jj + 1]\n",
    "    end\n",
    "\n",
    "    u = Index(dim(inds(U)[1]), \"u\")\n",
    "    v = Index(chi, \"v\")\n",
    "    \n",
    "    U_compressed = ITensor(u, v)\n",
    "\n",
    "    for ii in 1:n, jj in 1:chi\n",
    "        U_compressed[u => ii, v => jj] = U[inds(U)[1] => n - ii + 1, inds(U)[2] => n - jj + 1]\n",
    "    end\n",
    "\n",
    "    inds_U_compressed = inds(U_compressed)\n",
    "    inds_P = inds(P)\n",
    "\n",
    "    a = Index(dim(inds(U_compressed)[1]), \"a\")\n",
    "    b = Index(dim(inds(U_compressed)[2]), \"b\")\n",
    "    c = Index(dim(inds(U_compressed)[1]), \"c\")\n",
    "    d = Index(dim(inds(U_compressed)[2]), \"d\")\n",
    "    e = Index(dim(inds(P)[1]), \"e\")\n",
    "\n",
    "    inds_new_U_compressed_l = [a, b]\n",
    "    inds_new_U_compressed_r = [c, d]\n",
    "    inds_new_P = [e, a, c]\n",
    "\n",
    "    U_compressed_l = replaceinds(U_compressed, inds_U_compressed, inds_new_U_compressed_l)\n",
    "    U_compressed_r = replaceinds(U_compressed, inds_U_compressed, inds_new_U_compressed_r)\n",
    "    P_b = replaceinds(P, inds_P, inds_new_P)\n",
    "\n",
    "    P_compressed = P_b * U_compressed_l * U_compressed_r\n",
    "    \n",
    "    return C_compressed, P_compressed\n",
    "end\n",
    "\n",
    "# chi = 2\n",
    "# C_compressed, P_compressed = compress_expansion(P_expanded, C_expanded, chi)\n",
    "# @show C_compressed\n",
    "# @show P_compressed\n",
    "\n",
    "\n"
   ]
  },
  {
   "cell_type": "code",
   "execution_count": 11,
   "id": "559cf308",
   "metadata": {},
   "outputs": [
    {
     "name": "stdout",
     "output_type": "stream",
     "text": [
      "Spin correlation: NaN\n"
     ]
    }
   ],
   "source": [
    "# スピン相関の測定\n",
    "function measure_spin_correlation(W::ITensor,P::ITensor, C::ITensor, i::Index, j::Index, k::Index, l::Index)\n",
    "    inds_P = inds(P)\n",
    "    inds_C = inds(C)\n",
    "\n",
    "    a = Index(2, \"a\")\n",
    "    b = Index(2, \"b\")\n",
    "    g_la = Index(dim(inds_P[2]), \"g_la\")\n",
    "    g_lb = Index(dim(inds_P[2]), \"g_lb\")\n",
    "    g_al = Index(dim(inds_P[2]), \"g_al\")\n",
    "    g_ar = Index(dim(inds_P[2]), \"g_br\")\n",
    "    g_ra = Index(dim(inds_P[2]), \"g_ra\")\n",
    "    g_rb = Index(dim(inds_P[2]), \"g_rb\")\n",
    "    g_br = Index(dim(inds_P[2]), \"g_br\")\n",
    "    g_bl = Index(dim(inds_P[2]), \"g_bl\")\n",
    "\n",
    "    inds_new_P_l = [i, g_la, g_lb]\n",
    "    inds_new_P_a = [j, g_ar, g_al]\n",
    "    inds_new_P_r = [k, g_rb, g_ra]\n",
    "    inds_new_P_b = [l, g_bl, g_br]\n",
    "    inds_new_C_al = [g_al, g_la]\n",
    "    inds_new_C_ar = [g_ra, g_ar]\n",
    "    inds_new_C_br = [g_br, g_rb]\n",
    "    inds_new_C_bl = [g_lb, g_bl]\n",
    "\n",
    "    W_s = replaceinds(W, [i, l] => [a, b])\n",
    "    P_l = replaceinds(P, inds_P, inds_new_P_l)\n",
    "    P_a = replaceinds(P, inds_P, inds_new_P_a)\n",
    "    P_r = replaceinds(P, inds_P, inds_new_P_r)\n",
    "    P_b = replaceinds(P, inds_P, inds_new_P_b)\n",
    "    C_al = replaceinds(C, inds_C, inds_new_C_al)\n",
    "    C_ar = replaceinds(C, inds_C, inds_new_C_ar)\n",
    "    C_br = replaceinds(C, inds_C, inds_new_C_br)\n",
    "    C_bl = replaceinds(C, inds_C, inds_new_C_bl)\n",
    "    \n",
    "    S_l = ITensor(i, a)\n",
    "    S_b = ITensor(l, b)\n",
    "    \n",
    "    for ii in 1:2\n",
    "        S_l[i => ii, a => ii] = 2 * ii - 3\n",
    "        S_b[l => ii, b => ii] = 2 * ii - 3\n",
    "    end\n",
    "\n",
    "    G = C_al * P_a * C_ar * P_r * C_br * P_b * C_bl * P_l\n",
    "\n",
    "    O = G * W\n",
    "\n",
    "    O_s = S_l * S_b * G * W_s\n",
    "\n",
    "    SS_ev = O_s / O\n",
    "\n",
    "    return only(SS_ev)\n",
    "end\n",
    "\n",
    "SS_ev = measure_spin_correlation(W, P_expanded, C_expanded, i, j, k, l)\n",
    "println(\"Spin correlation: \", SS_ev)\n",
    "\n"
   ]
  },
  {
   "cell_type": "code",
   "execution_count": null,
   "id": "50395ff6",
   "metadata": {},
   "outputs": [],
   "source": [
    "# 自発磁化の測定\n",
    "function measure_magnetization(P::ITensor, C::ITensor)\n",
    "    inds_P = inds(P)\n",
    "    inds_C = inds(C)\n",
    "\n",
    "    a = Index(dim(inds_P[1]), \"a\")\n",
    "    b = Index(dim(inds_P[1]), \"b\")\n",
    "    q_la = Index(dim(inds_C[1]), \"q_la\")\n",
    "    q_lb = Index(dim(inds_C[1]), \"q_lb\")\n",
    "    q_ra = Index(dim(inds_C[1]), \"q_ra\")\n",
    "    q_rb = Index(dim(inds_C[1]), \"q_rb\")\n",
    "    q_a = Index(dim(inds_C[1]), \"q_a\")\n",
    "    q_b = Index(dim(inds_C[1]), \"q_b\")\n",
    "\n",
    "    inds_new_P_l = [a, q_la, q_lb]\n",
    "    inds_new_P_r = [a, q_rb, q_ra]\n",
    "    inds_new_P_r_s = [b, q_rb, q_ra]\n",
    "    inds_new_C_al = [q_a, q_la]\n",
    "    inds_new_C_ar = [q_ra, q_a]\n",
    "    inds_new_C_br = [q_b, q_rb]\n",
    "    inds_new_C_bl = [q_lb, q_b]\n",
    "\n",
    "    P_l = replaceinds(P, inds_P, inds_new_P_l)\n",
    "    P_r = replaceinds(P, inds_P, inds_new_P_r)\n",
    "    P_r_s = replaceinds(P, inds_P, inds_new_P_r_s)\n",
    "    C_al = replaceinds(C, inds_C, inds_new_C_al)\n",
    "    C_ar = replaceinds(C, inds_C, inds_new_C_ar)\n",
    "    C_br = replaceinds(C, inds_C, inds_new_C_br)\n",
    "    C_bl = replaceinds(C, inds_C, inds_new_C_bl)\n",
    "\n",
    "    S = ITensor(a, b)\n",
    "\n",
    "    for ii in 1:2\n",
    "        S[a => ii, b => ii] = 2 * ii - 3\n",
    "    end\n",
    "\n",
    "    Q = C_al * C_ar * P_r * C_br * C_bl * P_l\n",
    "\n",
    "    Q_s = S * C_al * C_ar * P_r_s * C_br * C_bl * P_l\n",
    "\n",
    "    S_ev = Q_s / Q\n",
    "\n",
    "    return only(S_ev)\n",
    "end\n",
    "\n",
    "S_ev = measure_magnetization(P_expanded, C_expanded)\n",
    "println(\"Magnetization: \", S_ev)"
   ]
  },
  {
   "cell_type": "code",
   "execution_count": 10,
   "id": "164e0261",
   "metadata": {},
   "outputs": [
    {
     "name": "stdout",
     "output_type": "stream",
     "text": [
      "C_expanded = ITensor ord=2\n",
      "Dim 1: (dim=8|id=641|\"z\")\n",
      "Dim 2: (dim=8|id=240|\"w\")\n",
      "NDTensors.Dense{Float64, Vector{Float64}}\n",
      " 8×8\n",
      " NaN  NaN  NaN  NaN  NaN  NaN  NaN  NaN\n",
      " NaN  NaN  NaN  NaN  NaN  NaN  NaN  NaN\n",
      " NaN  NaN  NaN  NaN  NaN  NaN  NaN  NaN\n",
      " NaN  NaN  NaN  NaN  NaN  NaN  NaN  NaN\n",
      " NaN  NaN  NaN  NaN  NaN  NaN  NaN  NaN\n",
      " NaN  NaN  NaN  NaN  NaN  NaN  NaN  NaN\n",
      " NaN  NaN  NaN  NaN  NaN  NaN  NaN  NaN\n",
      " NaN  NaN  NaN  NaN  NaN  NaN  NaN  NaN\n",
      "P_expanded = ITensor ord=3\n",
      "Dim 1: (dim=2|id=736|\"j\")\n",
      "Dim 2: (dim=8|id=733|\"x\")\n",
      "Dim 3: (dim=8|id=725|\"y\")\n",
      "NDTensors.Dense{Float64, Vector{Float64}}\n",
      " 2×8×8\n",
      "[:, :, 1] =\n",
      "  Inf  Inf   Inf  Inf  Inf  Inf  Inf   6.0\n",
      " NaN   Inf  NaN   Inf  Inf  Inf   3.0  6.0\n",
      "\n",
      "[:, :, 2] =\n",
      " Inf  NaN   Inf  NaN   Inf  NaN   6.0   3.0\n",
      " Inf   Inf  Inf   Inf  Inf   Inf  6.0  Inf\n",
      "\n",
      "[:, :, 3] =\n",
      "  Inf  Inf  NaN  NaN  Inf   6.0   Inf  Inf\n",
      " NaN   Inf  NaN  NaN   3.0  6.0  NaN   Inf\n",
      "\n",
      "[:, :, 4] =\n",
      " Inf  NaN   NaN  NaN  6.0   3.0  Inf  Inf\n",
      " Inf   Inf  NaN  NaN  6.0  Inf   Inf  Inf\n",
      "\n",
      "[:, :, 5] =\n",
      " Inf  Inf  Inf   6.0  NaN  NaN   Inf  Inf\n",
      " Inf  Inf   3.0  6.0  NaN  NaN  NaN   Inf\n",
      "\n",
      "[:, :, 6] =\n",
      " Inf  NaN   6.0   3.0  NaN  NaN  Inf  NaN\n",
      " Inf   Inf  6.0  Inf   NaN  NaN  Inf   Inf\n",
      "\n",
      "[:, :, 7] =\n",
      " Inf   6.0   Inf  Inf   Inf  Inf   Inf  Inf\n",
      "  3.0  6.0  NaN   Inf  NaN   Inf  NaN   Inf\n",
      "\n",
      "[:, :, 8] =\n",
      " 6.0   3.0  Inf  Inf  Inf  NaN   Inf  NaN\n",
      " 6.0  Inf   Inf  Inf  Inf   Inf  Inf   Inf\n"
     ]
    },
    {
     "data": {
      "text/plain": [
       "ITensor ord=3 (dim=2|id=736|\"j\") (dim=8|id=733|\"x\") (dim=8|id=725|\"y\")\n",
       "NDTensors.Dense{Float64, Vector{Float64}}"
      ]
     },
     "metadata": {},
     "output_type": "display_data"
    }
   ],
   "source": [
    "C_expanded = expand_tensor_2legs(W, P_expanded, C_expanded, i, j, k, l)\n",
    "P_expanded = expand_tensor_3legs(W, P_expanded, i, j, k, l)\n",
    "@show C_expanded\n",
    "@show P_expanded"
   ]
  },
  {
   "cell_type": "code",
   "execution_count": null,
   "id": "77d1f9d2",
   "metadata": {},
   "outputs": [],
   "source": [
    "chi = 100\n",
    "C_compressed, P_compressed = compress_expansion(P_expanded, C_expanded, chi)\n",
    "@show C_compressed\n",
    "@show P_compressed"
   ]
  }
 ],
 "metadata": {
  "kernelspec": {
   "display_name": "Julia 1.11.5",
   "language": "julia",
   "name": "julia-1.11"
  },
  "language_info": {
   "file_extension": ".jl",
   "mimetype": "application/julia",
   "name": "julia",
   "version": "1.11.5"
  }
 },
 "nbformat": 4,
 "nbformat_minor": 5
}
