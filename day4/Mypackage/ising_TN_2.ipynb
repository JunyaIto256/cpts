{
 "cells": [
  {
   "cell_type": "code",
   "execution_count": 1,
   "id": "9837a60f",
   "metadata": {},
   "outputs": [
    {
     "name": "stderr",
     "output_type": "stream",
     "text": [
      "\u001b[32m\u001b[1m  Activating\u001b[22m\u001b[39m project at `c:\\Users\\ito23\\Documents\\学院科目\\物性物理学特論Ⅰ\\Julia\\day4\\Mypackage`\n"
     ]
    }
   ],
   "source": [
    "# パッケージのインストール（初回のみ実行）\n",
    "using Pkg\n",
    "Pkg.activate(\".\")  # 現在のディレクトリの環境をアクティブ化\n",
    "#Pkg.add(\"ITensors\")  # ITensorsパッケージをインストール"
   ]
  },
  {
   "cell_type": "code",
   "execution_count": 2,
   "id": "fe22e533",
   "metadata": {},
   "outputs": [],
   "source": [
    "using ITensors\n",
    "using Plots\n",
    "using LaTeXStrings"
   ]
  },
  {
   "cell_type": "code",
   "execution_count": 3,
   "id": "d8743fa3",
   "metadata": {},
   "outputs": [
    {
     "data": {
      "text/plain": [
       "normalize_tensor (generic function with 1 method)"
      ]
     },
     "metadata": {},
     "output_type": "display_data"
    }
   ],
   "source": [
    "# 規格化テンソルの作成\n",
    "function normalize_tensor(T::ITensor)\n",
    "    normalize_T = T / norm(T)\n",
    "\n",
    "    return normalize_T\n",
    "end"
   ]
  },
  {
   "cell_type": "code",
   "execution_count": 8,
   "id": "1fe2221a",
   "metadata": {},
   "outputs": [
    {
     "data": {
      "text/plain": [
       "tensor_origin_fix (generic function with 1 method)"
      ]
     },
     "metadata": {},
     "output_type": "display_data"
    }
   ],
   "source": [
    "# 原始テンソルの生成(固定端)\n",
    "function tensor_origin_fix(K::Float64)\n",
    "    i = Index(2, \"i\")\n",
    "    j = Index(2, \"j\")\n",
    "    k = Index(2, \"k\")\n",
    "    l = Index(2, \"l\")\n",
    "    W = ITensor(i, j, k, l)\n",
    "    \n",
    "    for ll in 0:1, kk in 0:1, jj in 0:1, ii in 0:1\n",
    "        W[i => ii+1, j => jj+1, k => kk+1, l => ll+1] = exp(K * ((2 * ii - 1) * (2 * jj - 1) + (2 * jj - 1) * (2 * kk - 1) + (2 * kk - 1) * (2 * ll - 1) + (2 * ll - 1) * (2 * ii - 1)))\n",
    "    end\n",
    "\n",
    "    del_l = ITensor(l)\n",
    "    del_l[l => 2] = 1.0\n",
    "\n",
    "    P = W * del_l\n",
    "\n",
    "    del_k = ITensor(k)\n",
    "    del_k[k => 2] = 1.0\n",
    "\n",
    "    C = P * del_k\n",
    "\n",
    "    W = normalize_tensor(W)\n",
    "    P = normalize_tensor(P)\n",
    "    C = normalize_tensor(C)\n",
    "\n",
    "    return W, P, C\n",
    "end"
   ]
  },
  {
   "cell_type": "code",
   "execution_count": 9,
   "id": "24b51ee8",
   "metadata": {},
   "outputs": [
    {
     "data": {
      "text/plain": [
       "expand_tensor_3legs (generic function with 1 method)"
      ]
     },
     "metadata": {},
     "output_type": "display_data"
    }
   ],
   "source": [
    "# Pの拡大\n",
    "function expand_tensor_3legs(W::ITensor, P::ITensor)\n",
    "    i, j, k, l = inds(W)\n",
    "    inds_P = inds(P)\n",
    "    n = dim(inds_P[1])\n",
    "\n",
    "    p = Index(n, \"p\")\n",
    "    q = Index(n, \"q\")\n",
    "\n",
    "    inds_new_P = [p, l, q]\n",
    "\n",
    "    P = replaceinds(P, inds_P, inds_new_P)\n",
    "\n",
    "    P = P * W\n",
    "\n",
    "    P = combiner(i, p; tags=\"x\") * P * combiner(k, q; tags=\"y\")\n",
    "\n",
    "    P = normalize_tensor(P)\n",
    "\n",
    "    return P\n",
    "end"
   ]
  },
  {
   "cell_type": "code",
   "execution_count": 10,
   "id": "70294f6e",
   "metadata": {},
   "outputs": [
    {
     "data": {
      "text/plain": [
       "expand_tensor_2legs (generic function with 1 method)"
      ]
     },
     "metadata": {},
     "output_type": "display_data"
    }
   ],
   "source": [
    "# Cの拡大\n",
    "function expand_tensor_2legs(W::ITensor, P::ITensor, C::ITensor)\n",
    "    i, j, k, l = inds(W)\n",
    "    inds_P = inds(P)\n",
    "    inds_C = inds(C)\n",
    "    n = dim(inds_P[1])\n",
    "\n",
    "    p = Index(n, \"p\")\n",
    "    q = Index(n, \"q\")\n",
    "    r = Index(n, \"r\")\n",
    "    s = Index(n, \"s\")\n",
    "\n",
    "    inds_new_P_L = [p, l, q]\n",
    "    inds_new_P_R = [r, k, s]\n",
    "    inds_new_C = [q, r]\n",
    "\n",
    "    P_b_L = replaceinds(P, inds_P, inds_new_P_L)\n",
    "    P_b_R = replaceinds(P, inds_P, inds_new_P_R)\n",
    "    C = replaceinds(C, inds_C, inds_new_C)\n",
    "\n",
    "    C = P_b_L * C * P_b_R * W\n",
    "\n",
    "    C = combiner(i, p; tags=\"z\") * C * combiner(j, s; tags=\"w\")\n",
    "\n",
    "    C = normalize_tensor(C)\n",
    "\n",
    "    return C\n",
    "end"
   ]
  },
  {
   "cell_type": "code",
   "execution_count": 11,
   "id": "e57a5883",
   "metadata": {},
   "outputs": [
    {
     "data": {
      "text/plain": [
       "diagonalize_tensor (generic function with 1 method)"
      ]
     },
     "metadata": {},
     "output_type": "display_data"
    }
   ],
   "source": [
    "# 対角化\n",
    "function diagonalize_tensor(C::ITensor)\n",
    "    z, w = inds(C)\n",
    "\n",
    "    D, U = eigen(C, z, w)\n",
    "    D = real(D)\n",
    "    U = real(U)\n",
    "\n",
    "    return D, U\n",
    "end"
   ]
  },
  {
   "cell_type": "code",
   "execution_count": 18,
   "id": "b113991d",
   "metadata": {},
   "outputs": [
    {
     "data": {
      "text/plain": [
       "compress_tensor (generic function with 1 method)"
      ]
     },
     "metadata": {},
     "output_type": "display_data"
    }
   ],
   "source": [
    "# 圧縮\n",
    "function compress_tensor(C::ITensor, P::ITensor, chi::Int64)\n",
    "    D, U = diagonalize_tensor(C)\n",
    "\n",
    "    n = dim(inds(C)[1])\n",
    "    \n",
    "    p = Index(chi, \"p\")\n",
    "    q = Index(chi, \"q\")\n",
    "\n",
    "    C = ITensor(p, q)\n",
    "\n",
    "    for jj in 1:chi, ii in 1:chi\n",
    "        C[p => ii, q => jj] = D[inds(D)[1] => n - chi + ii, inds(D)[2] => n - chi + jj]\n",
    "    end\n",
    "\n",
    "    # C = normalize_tensor(C)\n",
    "\n",
    "    inds_U = inds(U)\n",
    "    U = normalize_tensor(U)\n",
    "\n",
    "    u = Index(dim(inds(U)[1]), \"u\")\n",
    "    v = Index(chi, \"v\")\n",
    "    \n",
    "    U_compressed = ITensor(u, v)\n",
    "\n",
    "    for jj in 1:chi, ii in 1:n\n",
    "        U_compressed[u => ii, v => jj] = U[inds_U[1] => ii, inds_U[2] => n - chi + jj]\n",
    "    end\n",
    "\n",
    "    inds_U_compressed = inds(U_compressed)\n",
    "    inds_P = inds(P)\n",
    "    n_u = dim(inds_U_compressed[1])\n",
    "    m_u = dim(inds_U_compressed[2])\n",
    "\n",
    "    a = Index(n_u, \"a\")\n",
    "    b = Index(m_u, \"b\")\n",
    "    c = Index(n_u, \"c\")\n",
    "    d = Index(m_u, \"d\")\n",
    "    e = Index(dim(inds_P[2]), \"e\")\n",
    "\n",
    "    inds_new_U_compressed_l = [a, b]\n",
    "    inds_new_U_compressed_r = [c, d]\n",
    "    inds_new_P = [a, e, c]\n",
    "\n",
    "    U_compressed_l = replaceinds(U_compressed, inds_U_compressed, inds_new_U_compressed_l)\n",
    "    U_compressed_r = replaceinds(U_compressed, inds_U_compressed, inds_new_U_compressed_r)\n",
    "    P = replaceinds(P, inds_P, inds_new_P)\n",
    "\n",
    "    P = U_compressed_l * P * U_compressed_r\n",
    "\n",
    "    # P = normalize_tensor(P)\n",
    "    \n",
    "    return C, P\n",
    "end"
   ]
  },
  {
   "cell_type": "code",
   "execution_count": 14,
   "id": "80c35f67",
   "metadata": {},
   "outputs": [
    {
     "data": {
      "text/plain": [
       "environment_tensor (generic function with 1 method)"
      ]
     },
     "metadata": {},
     "output_type": "display_data"
    }
   ],
   "source": [
    "# 環境テンソルの生成\n",
    "function environment_tensor(W::ITensor, P::ITensor, C::ITensor)\n",
    "    i, j, k, l = inds(W)\n",
    "    inds_P = inds(P)\n",
    "    inds_C = inds(C)\n",
    "    n = dim(inds_P[1])\n",
    "\n",
    "    g_la = Index(n, \"g_la\")\n",
    "    g_lb = Index(n, \"g_lb\")\n",
    "    g_al = Index(n, \"g_al\")\n",
    "    g_ar = Index(n, \"g_br\")\n",
    "    g_ra = Index(n, \"g_ra\")\n",
    "    g_rb = Index(n, \"g_rb\")\n",
    "    g_br = Index(n, \"g_br\")\n",
    "    g_bl = Index(n, \"g_bl\")\n",
    "\n",
    "    inds_new_P_l = [g_la, i, g_lb]\n",
    "    inds_new_P_a = [g_ar, j, g_al]\n",
    "    inds_new_P_r = [g_rb, k, g_ra]\n",
    "    inds_new_P_b = [g_bl, l, g_br]\n",
    "    inds_new_C_al = [g_al, g_la]\n",
    "    inds_new_C_ar = [g_ra, g_ar]\n",
    "    inds_new_C_br = [g_br, g_rb]\n",
    "    inds_new_C_bl = [g_lb, g_bl]\n",
    "\n",
    "    P_l = replaceinds(P, inds_P, inds_new_P_l)\n",
    "    P_a = replaceinds(P, inds_P, inds_new_P_a)\n",
    "    P_r = replaceinds(P, inds_P, inds_new_P_r)\n",
    "    P_b = replaceinds(P, inds_P, inds_new_P_b)\n",
    "    C_al = replaceinds(C, inds_C, inds_new_C_al)\n",
    "    C_ar = replaceinds(C, inds_C, inds_new_C_ar)\n",
    "    C_br = replaceinds(C, inds_C, inds_new_C_br)\n",
    "    C_bl = replaceinds(C, inds_C, inds_new_C_bl)\n",
    "\n",
    "    G = C_al * P_a * C_ar * P_r * C_br * P_b * C_bl * P_l\n",
    "\n",
    "    O = G * W\n",
    "\n",
    "    return G, O\n",
    "end"
   ]
  },
  {
   "cell_type": "code",
   "execution_count": 15,
   "id": "5a2a6b87",
   "metadata": {},
   "outputs": [
    {
     "data": {
      "text/plain": [
       "measure_spin_correlation (generic function with 1 method)"
      ]
     },
     "metadata": {},
     "output_type": "display_data"
    }
   ],
   "source": [
    "# スピン相関の測定\n",
    "function measure_spin_correlation(W::ITensor, G::ITensor, O::ITensor)\n",
    "    i, j, k, l = inds(W)\n",
    "    a = Index(2, \"a\")\n",
    "    b = Index(2, \"b\")\n",
    "\n",
    "    W = replaceinds(W, [i, l] => [a, b])\n",
    "\n",
    "    S_l = ITensor(i, a)\n",
    "    S_b = ITensor(l, b)\n",
    "    \n",
    "    for ii in 1:2\n",
    "        S_l[i => ii, a => ii] = 2 * ii - 3\n",
    "        S_b[l => ii, b => ii] = 2 * ii - 3\n",
    "    end\n",
    "\n",
    "    O_s = S_l * S_b * G * W\n",
    "\n",
    "    SS_ev = only(O_s / O)\n",
    "\n",
    "    return SS_ev\n",
    "end"
   ]
  },
  {
   "cell_type": "code",
   "execution_count": 16,
   "id": "c07f21ab",
   "metadata": {},
   "outputs": [
    {
     "data": {
      "text/plain": [
       "measure_magnetization (generic function with 1 method)"
      ]
     },
     "metadata": {},
     "output_type": "display_data"
    }
   ],
   "source": [
    "# 自発磁化の測定\n",
    "function measure_magnetization(W::ITensor, G::ITensor, O::ITensor)\n",
    "    i, j, k, l = inds(W)\n",
    "    a = Index(2, \"a\")\n",
    "\n",
    "    W = replaceinds(W, [i] => [a])\n",
    "\n",
    "    S = ITensor(i, a)\n",
    "    \n",
    "    for ii in 1:2\n",
    "        S[i => ii, a => ii] = 2 * ii - 3\n",
    "    end\n",
    "\n",
    "    O_s = S * G * W\n",
    "\n",
    "    M_ev = only(O_s / O)\n",
    "\n",
    "    return M_ev\n",
    "end"
   ]
  },
  {
   "cell_type": "code",
   "execution_count": 26,
   "id": "948afc25",
   "metadata": {},
   "outputs": [
    {
     "data": {
      "image/png": "[encoded data removed]",
      "image/svg+xml": [
       "<?xml version=\"1.0\" encoding=\"utf-8\"?>\n",
       "<svg xmlns=\"http://www.w3.org/2000/svg\" xmlns:xlink=\"http://www.w3.org/1999/xlink\" width=\"600\" height=\"400\" viewBox=\"0 0 2400 1600\">\n",
       "<defs>\n",
       "  <clipPath id=\"clip140\">\n",
       "    <rect x=\"0\" y=\"0\" width=\"2400\" height=\"1600\"/>\n",
       "  </clipPath>\n",
       "</defs>\n",
       "<path clip-path=\"url(#clip140)\" d=\"M0 1600 L2400 1600 L2400 0 L0 0  Z\" fill=\"#ffffff\" fill-rule=\"evenodd\" fill-opacity=\"1\"/>\n",
       "<defs>\n",
       "  <clipPath id=\"clip141\">\n",
       "    <rect x=\"480\" y=\"0\" width=\"1681\" height=\"1600\"/>\n",
       "  </clipPath>\n",
       "</defs>\n",
       "<path clip-path=\"url(#clip140)\" d=\"M219.866 1423.18 L2352.76 1423.18 L2352.76 47.2441 L219.866 47.2441  Z\" fill=\"#ffffff\" fill-rule=\"evenodd\" fill-opacity=\"1\"/>\n",
       "<defs>\n",
       "  <clipPath id=\"clip142\">\n",
       "    <rect x=\"219\" y=\"47\" width=\"2134\" height=\"1377\"/>\n",
       "  </clipPath>\n",
       "</defs>\n",
       "<polyline clip-path=\"url(#clip142)\" style=\"stroke:#000000; stroke-linecap:round; stroke-linejoin:round; stroke-width:2; stroke-opacity:0.1; fill:none\" points=\"280.231,1423.18 280.231,47.2441 \"/>\n",
       "<polyline clip-path=\"url(#clip142)\" style=\"stroke:#000000; stroke-linecap:round; stroke-linejoin:round; stroke-width:2; stroke-opacity:0.1; fill:none\" points=\"950.951,1423.18 950.951,47.2441 \"/>\n",
       "<polyline clip-path=\"url(#clip142)\" style=\"stroke:#000000; stroke-linecap:round; stroke-linejoin:round; stroke-width:2; stroke-opacity:0.1; fill:none\" points=\"1621.67,1423.18 1621.67,47.2441 \"/>\n",
       "<polyline clip-path=\"url(#clip142)\" style=\"stroke:#000000; stroke-linecap:round; stroke-linejoin:round; stroke-width:2; stroke-opacity:0.1; fill:none\" points=\"2292.39,1423.18 2292.39,47.2441 \"/>\n",
       "<polyline clip-path=\"url(#clip142)\" style=\"stroke:#000000; stroke-linecap:round; stroke-linejoin:round; stroke-width:2; stroke-opacity:0.1; fill:none\" points=\"219.866,1165.42 2352.76,1165.42 \"/>\n",
       "<polyline clip-path=\"url(#clip142)\" style=\"stroke:#000000; stroke-linecap:round; stroke-linejoin:round; stroke-width:2; stroke-opacity:0.1; fill:none\" points=\"219.866,804.822 2352.76,804.822 \"/>\n",
       "<polyline clip-path=\"url(#clip142)\" style=\"stroke:#000000; stroke-linecap:round; stroke-linejoin:round; stroke-width:2; stroke-opacity:0.1; fill:none\" points=\"219.866,444.224 2352.76,444.224 \"/>\n",
       "<polyline clip-path=\"url(#clip142)\" style=\"stroke:#000000; stroke-linecap:round; stroke-linejoin:round; stroke-width:2; stroke-opacity:0.1; fill:none\" points=\"219.866,83.6256 2352.76,83.6256 \"/>\n",
       "<polyline clip-path=\"url(#clip140)\" style=\"stroke:#000000; stroke-linecap:round; stroke-linejoin:round; stroke-width:4; stroke-opacity:1; fill:none\" points=\"219.866,1423.18 2352.76,1423.18 \"/>\n",
       "<polyline clip-path=\"url(#clip140)\" style=\"stroke:#000000; stroke-linecap:round; stroke-linejoin:round; stroke-width:4; stroke-opacity:1; fill:none\" points=\"280.231,1423.18 280.231,1404.28 \"/>\n",
       "<polyline clip-path=\"url(#clip140)\" style=\"stroke:#000000; stroke-linecap:round; stroke-linejoin:round; stroke-width:4; stroke-opacity:1; fill:none\" points=\"950.951,1423.18 950.951,1404.28 \"/>\n",
       "<polyline clip-path=\"url(#clip140)\" style=\"stroke:#000000; stroke-linecap:round; stroke-linejoin:round; stroke-width:4; stroke-opacity:1; fill:none\" points=\"1621.67,1423.18 1621.67,1404.28 \"/>\n",
       "<polyline clip-path=\"url(#clip140)\" style=\"stroke:#000000; stroke-linecap:round; stroke-linejoin:round; stroke-width:4; stroke-opacity:1; fill:none\" points=\"2292.39,1423.18 2292.39,1404.28 \"/>\n",
       "<path clip-path=\"url(#clip140)\" d=\"M270.613 1481.64 L278.252 1481.64 L278.252 1455.28 L269.942 1456.95 L269.942 1452.69 L278.206 1451.02 L282.882 1451.02 L282.882 1481.64 L290.52 1481.64 L290.52 1485.58 L270.613 1485.58 L270.613 1481.64 Z\" fill=\"#000000\" fill-rule=\"nonzero\" fill-opacity=\"1\" /><path clip-path=\"url(#clip140)\" d=\"M945.604 1481.64 L961.923 1481.64 L961.923 1485.58 L939.979 1485.58 L939.979 1481.64 Q942.641 1478.89 947.224 1474.26 Q951.831 1469.61 953.011 1468.27 Q955.257 1465.74 956.136 1464.01 Q957.039 1462.25 957.039 1460.56 Q957.039 1457.8 955.095 1456.07 Q953.173 1454.33 950.071 1454.33 Q947.872 1454.33 945.419 1455.09 Q942.988 1455.86 940.21 1457.41 L940.21 1452.69 Q943.034 1451.55 945.488 1450.97 Q947.942 1450.39 949.979 1450.39 Q955.349 1450.39 958.544 1453.08 Q961.738 1455.77 961.738 1460.26 Q961.738 1462.39 960.928 1464.31 Q960.141 1466.2 958.034 1468.8 Q957.456 1469.47 954.354 1472.69 Q951.252 1475.88 945.604 1481.64 Z\" fill=\"#000000\" fill-rule=\"nonzero\" fill-opacity=\"1\" /><path clip-path=\"url(#clip140)\" d=\"M1625.92 1466.95 Q1629.28 1467.66 1631.15 1469.93 Q1633.05 1472.2 1633.05 1475.53 Q1633.05 1480.65 1629.53 1483.45 Q1626.01 1486.25 1619.53 1486.25 Q1617.35 1486.25 1615.04 1485.81 Q1612.75 1485.39 1610.29 1484.54 L1610.29 1480.02 Q1612.24 1481.16 1614.55 1481.74 Q1616.87 1482.32 1619.39 1482.32 Q1623.79 1482.32 1626.08 1480.58 Q1628.4 1478.84 1628.4 1475.53 Q1628.4 1472.48 1626.24 1470.77 Q1624.11 1469.03 1620.29 1469.03 L1616.27 1469.03 L1616.27 1465.19 L1620.48 1465.19 Q1623.93 1465.19 1625.76 1463.82 Q1627.59 1462.43 1627.59 1459.84 Q1627.59 1457.18 1625.69 1455.77 Q1623.81 1454.33 1620.29 1454.33 Q1618.37 1454.33 1616.17 1454.75 Q1613.97 1455.16 1611.34 1456.04 L1611.34 1451.88 Q1614 1451.14 1616.31 1450.77 Q1618.65 1450.39 1620.71 1450.39 Q1626.03 1450.39 1629.14 1452.83 Q1632.24 1455.23 1632.24 1459.35 Q1632.24 1462.22 1630.59 1464.21 Q1628.95 1466.18 1625.92 1466.95 Z\" fill=\"#000000\" fill-rule=\"nonzero\" fill-opacity=\"1\" /><path clip-path=\"url(#clip140)\" d=\"M2295.4 1455.09 L2283.59 1473.54 L2295.4 1473.54 L2295.4 1455.09 M2294.17 1451.02 L2300.05 1451.02 L2300.05 1473.54 L2304.98 1473.54 L2304.98 1477.43 L2300.05 1477.43 L2300.05 1485.58 L2295.4 1485.58 L2295.4 1477.43 L2279.8 1477.43 L2279.8 1472.92 L2294.17 1451.02 Z\" fill=\"#000000\" fill-rule=\"nonzero\" fill-opacity=\"1\" /><path clip-path=\"url(#clip140)\" d=\"M1224.5 1529.24 Q1224.5 1531.07 1223.37 1532.17 Q1222.28 1533.26 1220.89 1533.26 Q1219.67 1533.26 1219.03 1532.56 Q1218.38 1531.85 1218.38 1530.95 Q1218.38 1530.56 1218.54 1530.08 Q1218.7 1529.56 1219.06 1528.95 Q1219.44 1528.34 1220.25 1527.89 Q1221.05 1527.44 1222.15 1527.37 Q1221.92 1527.15 1221.86 1527.11 Q1221.38 1526.73 1220.47 1526.6 Q1220.35 1526.53 1219.89 1526.53 Q1217.67 1526.53 1215.42 1528.18 Q1213.2 1529.79 1210.46 1532.85 Q1207.01 1536.42 1204.79 1537.74 Q1214.55 1539.03 1214.55 1544.67 Q1214.55 1545.6 1214.29 1546.73 Q1213.78 1548.85 1213.78 1550.4 Q1213.78 1553.49 1215.87 1553.49 Q1217.9 1553.49 1219.19 1551.43 Q1220.51 1549.37 1221.6 1545.34 Q1221.76 1544.6 1221.92 1544.38 Q1222.08 1544.15 1222.54 1544.15 Q1223.34 1544.15 1223.34 1544.79 Q1222.6 1548.56 1220.96 1551.46 Q1218.86 1554.97 1215.74 1554.97 Q1213.13 1554.97 1211.39 1553.17 Q1209.69 1551.33 1209.69 1548.43 Q1209.69 1547.73 1209.94 1546.12 Q1210.14 1545.47 1210.14 1544.73 Q1210.14 1543.22 1209.3 1542.09 Q1208.46 1540.93 1207.11 1540.35 Q1205.76 1539.77 1204.63 1539.51 Q1203.53 1539.22 1202.47 1539.13 Q1199.25 1552.75 1198.8 1553.59 Q1198.51 1554.17 1197.87 1554.55 Q1197.22 1554.97 1196.55 1554.97 Q1195.9 1554.97 1195.26 1554.52 Q1194.65 1554.1 1194.65 1553.1 Q1194.65 1552.59 1194.9 1551.65 L1204.47 1513.65 L1204.66 1512.36 Q1204.66 1511.98 1204.5 1511.78 Q1204.37 1511.56 1203.6 1511.4 Q1202.86 1511.24 1201.38 1511.24 Q1200.76 1511.24 1200.47 1511.2 Q1200.22 1511.17 1199.99 1511.01 Q1199.77 1510.82 1199.77 1510.43 Q1199.77 1509.88 1199.99 1509.59 Q1200.25 1509.27 1200.44 1509.21 Q1200.64 1509.14 1201.02 1509.11 Q1201.57 1509.08 1203.41 1508.92 Q1205.24 1508.72 1206.82 1508.6 Q1208.4 1508.47 1209.07 1508.47 Q1209.46 1508.47 1209.65 1508.66 Q1209.88 1508.82 1209.91 1509.01 L1209.94 1509.17 L1203.08 1537 Q1205.92 1535.87 1210.39 1530.88 Q1215.58 1525.08 1220.02 1525.08 Q1222.12 1525.08 1223.31 1526.37 Q1224.5 1527.63 1224.5 1529.24 Z\" fill=\"#000000\" fill-rule=\"nonzero\" fill-opacity=\"1\" /><path clip-path=\"url(#clip140)\" d=\"M1264.21 1548.55 Q1264.21 1550.65 1262.76 1552.54 Q1261.34 1554.41 1259.18 1555.6 Q1257.02 1556.78 1254.56 1557.23 Q1257.87 1557.61 1259.79 1559.41 Q1261.73 1561.22 1261.73 1563.74 Q1261.73 1565.43 1260.74 1567.22 Q1259.77 1568.97 1258.1 1570.42 Q1256.45 1571.86 1254.02 1572.78 Q1251.61 1573.71 1248.97 1573.71 L1232.49 1573.71 Q1231.97 1573.71 1231.77 1573.69 Q1231.56 1573.66 1231.41 1573.55 Q1231.25 1573.44 1231.25 1573.19 Q1231.25 1572.74 1231.41 1572.54 Q1231.59 1572.33 1231.79 1572.31 Q1231.99 1572.29 1232.49 1572.29 Q1233.62 1572.29 1234.29 1572.22 Q1234.97 1572.15 1235.4 1572.06 Q1235.85 1571.95 1236.07 1571.63 Q1236.32 1571.32 1236.43 1571.05 Q1236.55 1570.75 1236.7 1570.1 L1242.88 1545.3 Q1243.06 1544.56 1243.06 1544.45 Q1243.06 1544.02 1242.79 1543.9 Q1242.54 1543.77 1241.82 1543.7 L1240.06 1543.61 Q1239.52 1543.61 1239.3 1543.59 Q1239.09 1543.57 1238.94 1543.45 Q1238.78 1543.34 1238.78 1543.09 Q1238.78 1542.46 1239.05 1542.33 Q1239.34 1542.17 1240.11 1542.17 L1255.62 1542.17 Q1259.61 1542.17 1261.91 1544.02 Q1264.21 1545.84 1264.21 1548.55 M1260.01 1548.37 Q1260.01 1547.51 1259.79 1546.75 Q1259.56 1545.98 1259.02 1545.23 Q1258.5 1544.49 1257.47 1544.06 Q1256.43 1543.61 1254.99 1543.61 L1249.01 1543.61 Q1247.55 1543.61 1247.19 1543.88 Q1246.85 1544.13 1246.53 1545.37 L1243.67 1556.8 L1250.41 1556.8 Q1252.46 1556.8 1254.27 1556.06 Q1256.09 1555.31 1257.33 1554.12 Q1258.57 1552.9 1259.29 1551.39 Q1260.01 1549.88 1260.01 1548.37 M1257.42 1563.22 Q1257.42 1562.55 1257.31 1561.89 Q1257.2 1561.24 1256.84 1560.47 Q1256.47 1559.71 1255.91 1559.14 Q1255.35 1558.58 1254.36 1558.2 Q1253.39 1557.81 1252.12 1557.81 L1243.4 1557.81 L1240.2 1570.71 Q1239.97 1571.54 1239.97 1571.77 Q1239.97 1572.02 1240.09 1572.11 Q1240.22 1572.17 1240.58 1572.22 Q1240.99 1572.29 1241.6 1572.29 L1247.86 1572.29 Q1249.85 1572.29 1251.65 1571.52 Q1253.45 1570.73 1254.69 1569.47 Q1255.96 1568.21 1256.68 1566.56 Q1257.42 1564.92 1257.42 1563.22 Z\" fill=\"#000000\" fill-rule=\"nonzero\" fill-opacity=\"1\" /><path clip-path=\"url(#clip140)\" d=\"M1315.79 1510.3 Q1315.79 1510.91 1315.66 1511.43 L1313.86 1522.89 Q1313.76 1523.76 1313.57 1524.09 Q1313.4 1524.41 1312.89 1524.41 Q1312.08 1524.41 1312.08 1523.57 Q1312.08 1523.09 1312.28 1522.31 Q1312.83 1518.68 1312.83 1517.03 Q1312.83 1515.94 1312.6 1515.13 Q1312.41 1514.3 1312.08 1513.72 Q1311.79 1513.14 1311.12 1512.75 Q1310.44 1512.36 1309.8 1512.14 Q1309.15 1511.91 1307.99 1511.82 Q1306.83 1511.69 1305.84 1511.65 Q1304.84 1511.62 1303.2 1511.62 Q1299.62 1511.62 1299.04 1511.75 Q1298.43 1511.91 1298.11 1512.4 Q1297.82 1512.85 1297.5 1514.2 L1288.74 1549.21 L1288.48 1550.59 Q1288.48 1551.36 1288.96 1551.62 Q1289.44 1551.88 1290.93 1552.04 Q1293.05 1552.2 1295.14 1552.2 Q1295.21 1552.2 1295.34 1552.2 Q1296.05 1552.2 1296.34 1552.23 Q1296.63 1552.23 1296.92 1552.3 Q1297.21 1552.36 1297.27 1552.52 Q1297.37 1552.65 1297.37 1552.91 Q1297.37 1553.52 1297.11 1553.84 Q1296.85 1554.13 1296.59 1554.2 Q1296.37 1554.23 1295.92 1554.23 Q1295.02 1554.23 1293.08 1554.17 Q1291.15 1554.1 1290.18 1554.1 L1284.71 1554.04 L1279.11 1554.1 Q1278.24 1554.1 1276.4 1554.17 Q1274.56 1554.23 1273.7 1554.23 Q1272.57 1554.23 1272.57 1553.43 Q1272.57 1552.52 1272.99 1552.36 Q1273.44 1552.2 1275.34 1552.2 Q1278.01 1552.2 1279.46 1552.07 Q1280.91 1551.94 1281.68 1551.49 Q1282.49 1551.04 1282.71 1550.59 Q1282.94 1550.11 1283.2 1549.01 L1292.05 1513.81 Q1292.31 1513.04 1292.31 1512.43 Q1292.31 1512.11 1292.21 1511.98 Q1292.15 1511.85 1291.73 1511.75 Q1291.31 1511.62 1290.44 1511.62 L1287.87 1511.62 Q1285.22 1511.62 1283.58 1511.75 Q1281.97 1511.85 1280.43 1512.33 Q1278.91 1512.81 1278.01 1513.49 Q1277.14 1514.17 1276.17 1515.55 Q1275.21 1516.94 1274.5 1518.61 Q1273.82 1520.29 1272.86 1523.02 Q1272.54 1523.93 1272.34 1524.18 Q1272.18 1524.41 1271.73 1524.41 Q1271.41 1524.41 1271.15 1524.22 Q1270.93 1523.99 1270.93 1523.7 Q1271.25 1522.64 1271.31 1522.51 L1275.27 1510.88 Q1275.6 1509.95 1275.89 1509.79 Q1276.21 1509.59 1277.4 1509.59 L1313.98 1509.59 Q1314.56 1509.59 1314.76 1509.59 Q1314.95 1509.59 1315.27 1509.66 Q1315.59 1509.72 1315.69 1509.88 Q1315.79 1510.04 1315.79 1510.3 Z\" fill=\"#000000\" fill-rule=\"nonzero\" fill-opacity=\"1\" /><path clip-path=\"url(#clip140)\" d=\"M1309.08 1569.79 Q1309.08 1569.46 1309.33 1568.76 L1332.62 1506.53 Q1332.62 1506.47 1332.78 1506.12 Q1332.94 1505.76 1333.04 1505.54 Q1333.13 1505.28 1333.33 1505.08 Q1333.55 1504.89 1333.81 1504.89 Q1334.45 1504.89 1334.45 1505.7 Q1334.45 1505.76 1334.26 1506.53 L1310.91 1568.82 Q1310.53 1569.95 1310.27 1570.27 Q1310.04 1570.59 1309.66 1570.59 Q1309.08 1570.59 1309.08 1569.79 Z\" fill=\"#000000\" fill-rule=\"nonzero\" fill-opacity=\"1\" /><path clip-path=\"url(#clip140)\" d=\"M1378.81 1509.98 Q1378.81 1510.59 1378.55 1510.88 Q1378.29 1511.14 1378 1511.2 Q1377.71 1511.24 1377.04 1511.24 Q1375.65 1511.24 1374.91 1511.33 Q1374.17 1511.43 1373.72 1511.85 Q1373.27 1512.23 1373.11 1512.62 Q1372.98 1513.01 1372.75 1514.01 L1365.02 1544.79 Q1363.83 1549.53 1359.52 1552.62 Q1355.2 1555.68 1350.47 1555.68 Q1346.6 1555.68 1344.16 1553.65 Q1341.74 1551.59 1341.74 1548.5 Q1341.74 1546.92 1342.26 1545.79 Q1342.77 1544.67 1343.54 1544.15 Q1344.32 1543.64 1344.96 1543.44 Q1345.64 1543.22 1346.18 1543.22 Q1347.25 1543.22 1348.15 1543.89 Q1349.08 1544.57 1349.08 1545.99 Q1349.08 1547.56 1347.86 1548.88 Q1346.64 1550.21 1344.8 1550.21 Q1344.19 1550.21 1343.99 1550.14 Q1344.48 1551.72 1345.73 1552.72 Q1346.99 1553.68 1348.08 1553.97 Q1349.21 1554.23 1350.27 1554.23 Q1353.04 1554.23 1355.85 1551.56 Q1358.65 1548.88 1359.78 1544.34 L1367.34 1514.07 Q1367.6 1513.04 1367.6 1512.69 Q1367.6 1512.01 1367.18 1511.78 Q1366.8 1511.53 1365.57 1511.36 Q1363.93 1511.24 1361.74 1511.24 Q1360.97 1511.24 1360.64 1511.24 Q1360.32 1511.2 1360 1511.14 Q1359.68 1511.08 1359.58 1510.95 Q1359.49 1510.79 1359.49 1510.5 Q1359.49 1509.88 1359.74 1509.59 Q1360 1509.27 1360.23 1509.24 Q1360.45 1509.17 1360.87 1509.17 L1370.56 1509.37 Q1371.4 1509.37 1374.24 1509.27 Q1377.07 1509.17 1377.91 1509.17 Q1378.81 1509.17 1378.81 1509.98 Z\" fill=\"#000000\" fill-rule=\"nonzero\" fill-opacity=\"1\" /><polyline clip-path=\"url(#clip140)\" style=\"stroke:#000000; stroke-linecap:round; stroke-linejoin:round; stroke-width:4; stroke-opacity:1; fill:none\" points=\"219.866,1423.18 219.866,47.2441 \"/>\n",
       "<polyline clip-path=\"url(#clip140)\" style=\"stroke:#000000; stroke-linecap:round; stroke-linejoin:round; stroke-width:4; stroke-opacity:1; fill:none\" points=\"219.866,1165.42 238.764,1165.42 \"/>\n",
       "<polyline clip-path=\"url(#clip140)\" style=\"stroke:#000000; stroke-linecap:round; stroke-linejoin:round; stroke-width:4; stroke-opacity:1; fill:none\" points=\"219.866,804.822 238.764,804.822 \"/>\n",
       "<polyline clip-path=\"url(#clip140)\" style=\"stroke:#000000; stroke-linecap:round; stroke-linejoin:round; stroke-width:4; stroke-opacity:1; fill:none\" points=\"219.866,444.224 238.764,444.224 \"/>\n",
       "<polyline clip-path=\"url(#clip140)\" style=\"stroke:#000000; stroke-linecap:round; stroke-linejoin:round; stroke-width:4; stroke-opacity:1; fill:none\" points=\"219.866,83.6256 238.764,83.6256 \"/>\n",
       "<path clip-path=\"url(#clip140)\" d=\"M126.205 1151.22 Q122.593 1151.22 120.765 1154.78 Q118.959 1158.33 118.959 1165.45 Q118.959 1172.56 120.765 1176.13 Q122.593 1179.67 126.205 1179.67 Q129.839 1179.67 131.644 1176.13 Q133.473 1172.56 133.473 1165.45 Q133.473 1158.33 131.644 1154.78 Q129.839 1151.22 126.205 1151.22 M126.205 1147.52 Q132.015 1147.52 135.07 1152.12 Q138.149 1156.71 138.149 1165.45 Q138.149 1174.18 135.07 1178.79 Q132.015 1183.37 126.205 1183.37 Q120.394 1183.37 117.316 1178.79 Q114.26 1174.18 114.26 1165.45 Q114.26 1156.71 117.316 1152.12 Q120.394 1147.52 126.205 1147.52 Z\" fill=\"#000000\" fill-rule=\"nonzero\" fill-opacity=\"1\" /><path clip-path=\"url(#clip140)\" d=\"M146.366 1176.82 L151.251 1176.82 L151.251 1182.7 L146.366 1182.7 L146.366 1176.82 Z\" fill=\"#000000\" fill-rule=\"nonzero\" fill-opacity=\"1\" /><path clip-path=\"url(#clip140)\" d=\"M174.283 1152.21 L162.477 1170.66 L174.283 1170.66 L174.283 1152.21 M173.056 1148.14 L178.936 1148.14 L178.936 1170.66 L183.866 1170.66 L183.866 1174.55 L178.936 1174.55 L178.936 1182.7 L174.283 1182.7 L174.283 1174.55 L158.681 1174.55 L158.681 1170.04 L173.056 1148.14 Z\" fill=\"#000000\" fill-rule=\"nonzero\" fill-opacity=\"1\" /><path clip-path=\"url(#clip140)\" d=\"M126.529 790.621 Q122.918 790.621 121.089 794.186 Q119.283 797.727 119.283 804.857 Q119.283 811.963 121.089 815.528 Q122.918 819.07 126.529 819.07 Q130.163 819.07 131.968 815.528 Q133.797 811.963 133.797 804.857 Q133.797 797.727 131.968 794.186 Q130.163 790.621 126.529 790.621 M126.529 786.917 Q132.339 786.917 135.394 791.524 Q138.473 796.107 138.473 804.857 Q138.473 813.584 135.394 818.19 Q132.339 822.773 126.529 822.773 Q120.718 822.773 117.64 818.19 Q114.584 813.584 114.584 804.857 Q114.584 796.107 117.64 791.524 Q120.718 786.917 126.529 786.917 Z\" fill=\"#000000\" fill-rule=\"nonzero\" fill-opacity=\"1\" /><path clip-path=\"url(#clip140)\" d=\"M146.691 816.222 L151.575 816.222 L151.575 822.102 L146.691 822.102 L146.691 816.222 Z\" fill=\"#000000\" fill-rule=\"nonzero\" fill-opacity=\"1\" /><path clip-path=\"url(#clip140)\" d=\"M172.339 802.959 Q169.19 802.959 167.339 805.111 Q165.51 807.264 165.51 811.014 Q165.51 814.741 167.339 816.917 Q169.19 819.07 172.339 819.07 Q175.487 819.07 177.315 816.917 Q179.167 814.741 179.167 811.014 Q179.167 807.264 177.315 805.111 Q175.487 802.959 172.339 802.959 M181.621 788.306 L181.621 792.565 Q179.862 791.732 178.056 791.292 Q176.274 790.852 174.514 790.852 Q169.885 790.852 167.431 793.977 Q165.001 797.102 164.653 803.422 Q166.019 801.408 168.079 800.343 Q170.139 799.255 172.616 799.255 Q177.825 799.255 180.834 802.426 Q183.866 805.574 183.866 811.014 Q183.866 816.338 180.718 819.556 Q177.57 822.773 172.339 822.773 Q166.343 822.773 163.172 818.19 Q160.001 813.584 160.001 804.857 Q160.001 796.662 163.89 791.801 Q167.778 786.917 174.329 786.917 Q176.089 786.917 177.871 787.264 Q179.676 787.611 181.621 788.306 Z\" fill=\"#000000\" fill-rule=\"nonzero\" fill-opacity=\"1\" /><path clip-path=\"url(#clip140)\" d=\"M126.783 430.023 Q123.172 430.023 121.343 433.587 Q119.538 437.129 119.538 444.259 Q119.538 451.365 121.343 454.93 Q123.172 458.471 126.783 458.471 Q130.417 458.471 132.223 454.93 Q134.052 451.365 134.052 444.259 Q134.052 437.129 132.223 433.587 Q130.417 430.023 126.783 430.023 M126.783 426.319 Q132.593 426.319 135.649 430.925 Q138.728 435.509 138.728 444.259 Q138.728 452.985 135.649 457.592 Q132.593 462.175 126.783 462.175 Q120.973 462.175 117.894 457.592 Q114.839 452.985 114.839 444.259 Q114.839 435.509 117.894 430.925 Q120.973 426.319 126.783 426.319 Z\" fill=\"#000000\" fill-rule=\"nonzero\" fill-opacity=\"1\" /><path clip-path=\"url(#clip140)\" d=\"M146.945 455.624 L151.829 455.624 L151.829 461.504 L146.945 461.504 L146.945 455.624 Z\" fill=\"#000000\" fill-rule=\"nonzero\" fill-opacity=\"1\" /><path clip-path=\"url(#clip140)\" d=\"M172.014 445.092 Q168.681 445.092 166.76 446.874 Q164.862 448.657 164.862 451.782 Q164.862 454.907 166.76 456.689 Q168.681 458.471 172.014 458.471 Q175.348 458.471 177.269 456.689 Q179.19 454.883 179.19 451.782 Q179.19 448.657 177.269 446.874 Q175.371 445.092 172.014 445.092 M167.339 443.101 Q164.329 442.36 162.64 440.3 Q160.973 438.24 160.973 435.277 Q160.973 431.134 163.913 428.726 Q166.876 426.319 172.014 426.319 Q177.176 426.319 180.116 428.726 Q183.056 431.134 183.056 435.277 Q183.056 438.24 181.366 440.3 Q179.7 442.36 176.714 443.101 Q180.093 443.888 181.968 446.18 Q183.866 448.471 183.866 451.782 Q183.866 456.805 180.788 459.49 Q177.732 462.175 172.014 462.175 Q166.297 462.175 163.218 459.49 Q160.163 456.805 160.163 451.782 Q160.163 448.471 162.061 446.18 Q163.959 443.888 167.339 443.101 M165.626 435.717 Q165.626 438.402 167.292 439.907 Q168.982 441.411 172.014 441.411 Q175.024 441.411 176.714 439.907 Q178.426 438.402 178.426 435.717 Q178.426 433.032 176.714 431.527 Q175.024 430.023 172.014 430.023 Q168.982 430.023 167.292 431.527 Q165.626 433.032 165.626 435.717 Z\" fill=\"#000000\" fill-rule=\"nonzero\" fill-opacity=\"1\" /><path clip-path=\"url(#clip140)\" d=\"M117.501 96.9704 L125.14 96.9704 L125.14 70.6048 L116.83 72.2715 L116.83 68.0123 L125.093 66.3456 L129.769 66.3456 L129.769 96.9704 L137.408 96.9704 L137.408 100.906 L117.501 100.906 L117.501 96.9704 Z\" fill=\"#000000\" fill-rule=\"nonzero\" fill-opacity=\"1\" /><path clip-path=\"url(#clip140)\" d=\"M146.853 95.026 L151.737 95.026 L151.737 100.906 L146.853 100.906 L146.853 95.026 Z\" fill=\"#000000\" fill-rule=\"nonzero\" fill-opacity=\"1\" /><path clip-path=\"url(#clip140)\" d=\"M171.922 69.4243 Q168.311 69.4243 166.482 72.9891 Q164.677 76.5307 164.677 83.6603 Q164.677 90.7668 166.482 94.3316 Q168.311 97.8732 171.922 97.8732 Q175.556 97.8732 177.362 94.3316 Q179.19 90.7668 179.19 83.6603 Q179.19 76.5307 177.362 72.9891 Q175.556 69.4243 171.922 69.4243 M171.922 65.7206 Q177.732 65.7206 180.788 70.3271 Q183.866 74.9104 183.866 83.6603 Q183.866 92.3871 180.788 96.9936 Q177.732 101.577 171.922 101.577 Q166.112 101.577 163.033 96.9936 Q159.978 92.3871 159.978 83.6603 Q159.978 74.9104 163.033 70.3271 Q166.112 65.7206 171.922 65.7206 Z\" fill=\"#000000\" fill-rule=\"nonzero\" fill-opacity=\"1\" /><path clip-path=\"url(#clip140)\" d=\"M82.8134 793.006 Q83.3609 793.006 83.7473 793.393 Q84.1338 793.779 84.1338 794.327 Q84.1338 795.261 83.2643 795.583 L51.6059 807.853 Q51.4771 807.918 51.155 807.918 Q50.8329 807.918 50.7041 807.853 L19.0458 795.583 Q18.1762 795.261 18.1762 794.327 Q18.1762 793.779 18.5627 793.393 Q18.9491 793.006 19.4966 793.006 Q19.8187 793.006 19.9475 793.071 L51.155 805.212 L82.3625 793.071 Q82.4913 793.006 82.8134 793.006 Z\" fill=\"#000000\" fill-rule=\"nonzero\" fill-opacity=\"1\" /><path clip-path=\"url(#clip140)\" d=\"M40.7847 747.647 Q43.0391 747.647 43.0391 750.868 L43.0391 758.114 Q45.9377 756.085 50.221 756.085 Q53.8925 756.085 57.3385 757.599 Q60.7524 759.08 63.1356 761.464 Q65.5188 763.815 66.9681 766.778 Q68.3851 769.741 68.3851 772.639 Q68.3851 777.051 65.39 779.789 Q62.3949 782.526 57.9504 782.526 Q55.5994 782.526 52.9907 781.721 Q50.3821 780.884 47.9666 779.306 Q45.519 777.728 43.5544 775.666 Q41.5899 773.573 40.3982 770.868 Q39.2066 768.13 39.2066 765.264 L39.2066 750.224 Q39.2066 749.419 39.271 749 Q39.3032 748.549 39.6897 748.098 Q40.044 747.647 40.7847 747.647 M49.4481 760.304 Q48.6752 760.304 47.9988 760.401 Q47.2903 760.498 46.3563 760.852 Q45.3902 761.206 44.7138 761.818 Q44.0053 762.43 43.5222 763.621 Q43.0391 764.781 43.0391 766.359 Q43.0391 768.581 44.263 771.029 Q45.4868 773.476 48.5141 775.344 Q51.0906 776.89 54.44 777.663 Q57.7894 778.436 59.7862 778.436 Q63.2 778.436 65.0679 776.794 Q66.9037 775.119 66.9037 772.575 Q66.9037 770.481 65.4866 768.098 Q64.0374 765.715 61.2999 763.879 Q58.9166 762.269 55.4384 761.303 Q51.9602 760.304 49.4481 760.304 Z\" fill=\"#000000\" fill-rule=\"nonzero\" fill-opacity=\"1\" /><path clip-path=\"url(#clip140)\" d=\"M40.7847 710.358 Q43.0391 710.358 43.0391 713.579 L43.0391 720.825 Q45.9377 718.796 50.221 718.796 Q53.8925 718.796 57.3385 720.31 Q60.7524 721.791 63.1356 724.174 Q65.5188 726.525 66.9681 729.488 Q68.3851 732.451 68.3851 735.35 Q68.3851 739.762 65.39 742.499 Q62.3949 745.237 57.9504 745.237 Q55.5994 745.237 52.9907 744.432 Q50.3821 743.594 47.9666 742.016 Q45.519 740.438 43.5544 738.377 Q41.5899 736.284 40.3982 733.578 Q39.2066 730.841 39.2066 727.975 L39.2066 712.935 Q39.2066 712.129 39.271 711.711 Q39.3032 711.26 39.6897 710.809 Q40.044 710.358 40.7847 710.358 M49.4481 723.015 Q48.6752 723.015 47.9988 723.112 Q47.2903 723.208 46.3563 723.562 Q45.3902 723.917 44.7138 724.529 Q44.0053 725.141 43.5222 726.332 Q43.0391 727.492 43.0391 729.07 Q43.0391 731.292 44.263 733.739 Q45.4868 736.187 48.5141 738.055 Q51.0906 739.601 54.44 740.374 Q57.7894 741.147 59.7862 741.147 Q63.2 741.147 65.0679 739.504 Q66.9037 737.83 66.9037 735.285 Q66.9037 733.192 65.4866 730.809 Q64.0374 728.426 61.2999 726.59 Q58.9166 724.98 55.4384 724.013 Q51.9602 723.015 49.4481 723.015 Z\" fill=\"#000000\" fill-rule=\"nonzero\" fill-opacity=\"1\" /><path clip-path=\"url(#clip140)\" d=\"M16.9572 694.851 Q17.4982 694.851 17.8364 695.122 L29.8749 702.426 L29.8749 703.666 L16.1681 698.12 Q15.7623 697.985 15.4918 697.556 Q15.1987 697.128 15.1987 696.609 Q15.1987 695.888 15.7172 695.37 Q16.2357 694.851 16.9572 694.851 Z\" fill=\"#000000\" fill-rule=\"nonzero\" fill-opacity=\"1\" /><path clip-path=\"url(#clip140)\" d=\"M50.7041 673.083 Q50.8329 673.019 51.155 673.019 Q51.4771 673.019 51.6059 673.083 L83.2643 685.353 Q84.1338 685.675 84.1338 686.577 Q84.1338 687.125 83.7473 687.511 Q83.3609 687.898 82.8134 687.898 Q82.4913 687.898 82.3625 687.833 L51.155 675.724 L19.9475 687.833 Q19.8187 687.898 19.4966 687.898 Q18.9491 687.898 18.5627 687.511 Q18.1762 687.125 18.1762 686.577 Q18.1762 685.675 19.0458 685.353 L50.7041 673.083 Z\" fill=\"#000000\" fill-rule=\"nonzero\" fill-opacity=\"1\" /><polyline clip-path=\"url(#clip142)\" style=\"stroke:#009af9; stroke-linecap:round; stroke-linejoin:round; stroke-width:4; stroke-opacity:1; fill:none\" points=\"280.231,86.1857 330.535,88.1846 380.839,91.196 431.143,95.5047 481.447,101.421 531.751,109.279 582.055,119.443 632.359,132.308 682.663,148.315 732.967,167.965 783.271,191.845 833.575,220.674 883.879,255.37 934.183,297.184 984.487,347.97 1034.79,410.839 1085.1,492.055 1135.4,603.459 1185.7,731.546 1236.01,823.739 1286.31,889.336 1336.62,943.346 1386.92,990.025 1437.22,1031.18 1487.53,1067.93 1537.83,1101.07 1588.14,1131.19 1638.44,1158.73 1688.74,1184.06 1739.05,1207.46 1789.35,1229.16 1839.66,1249.36 1889.96,1268.22 1940.26,1285.88 1990.57,1302.46 2040.87,1318.07 2091.18,1332.79 2141.48,1346.7 2191.78,1359.87 2242.09,1372.37 2292.39,1384.24 \"/>\n",
       "<path clip-path=\"url(#clip140)\" d=\"M2015.94 196.789 L2281.66 196.789 L2281.66 93.1086 L2015.94 93.1086  Z\" fill=\"#ffffff\" fill-rule=\"evenodd\" fill-opacity=\"1\"/>\n",
       "<polyline clip-path=\"url(#clip140)\" style=\"stroke:#000000; stroke-linecap:round; stroke-linejoin:round; stroke-width:4; stroke-opacity:1; fill:none\" points=\"2015.94,196.789 2281.66,196.789 2281.66,93.1086 2015.94,93.1086 2015.94,196.789 \"/>\n",
       "<polyline clip-path=\"url(#clip140)\" style=\"stroke:#009af9; stroke-linecap:round; stroke-linejoin:round; stroke-width:4; stroke-opacity:1; fill:none\" points=\"2039.64,144.949 2181.83,144.949 \"/>\n",
       "<path clip-path=\"url(#clip140)\" d=\"M2219.37 164.636 Q2217.57 169.266 2215.85 170.678 Q2214.14 172.09 2211.27 172.09 L2207.87 172.09 L2207.87 168.525 L2210.37 168.525 Q2212.13 168.525 2213.1 167.692 Q2214.07 166.858 2215.25 163.756 L2216.02 161.812 L2205.53 136.303 L2210.04 136.303 L2218.15 156.581 L2226.25 136.303 L2230.76 136.303 L2219.37 164.636 Z\" fill=\"#000000\" fill-rule=\"nonzero\" fill-opacity=\"1\" /><path clip-path=\"url(#clip140)\" d=\"M2238.05 158.293 L2245.69 158.293 L2245.69 131.928 L2237.38 133.595 L2237.38 129.335 L2245.65 127.669 L2250.32 127.669 L2250.32 158.293 L2257.96 158.293 L2257.96 162.229 L2238.05 162.229 L2238.05 158.293 Z\" fill=\"#000000\" fill-rule=\"nonzero\" fill-opacity=\"1\" /></svg>\n"
      ],
      "text/html": [
       "<?xml version=\"1.0\" encoding=\"utf-8\"?>\n",
       "<svg xmlns=\"http://www.w3.org/2000/svg\" xmlns:xlink=\"http://www.w3.org/1999/xlink\" width=\"600\" height=\"400\" viewBox=\"0 0 2400 1600\">\n",
       "<defs>\n",
       "  <clipPath id=\"clip190\">\n",
       "    <rect x=\"0\" y=\"0\" width=\"2400\" height=\"1600\"/>\n",
       "  </clipPath>\n",
       "</defs>\n",
       "<path clip-path=\"url(#clip190)\" d=\"M0 1600 L2400 1600 L2400 0 L0 0  Z\" fill=\"#ffffff\" fill-rule=\"evenodd\" fill-opacity=\"1\"/>\n",
       "<defs>\n",
       "  <clipPath id=\"clip191\">\n",
       "    <rect x=\"480\" y=\"0\" width=\"1681\" height=\"1600\"/>\n",
       "  </clipPath>\n",
       "</defs>\n",
       "<path clip-path=\"url(#clip190)\" d=\"M219.866 1423.18 L2352.76 1423.18 L2352.76 47.2441 L219.866 47.2441  Z\" fill=\"#ffffff\" fill-rule=\"evenodd\" fill-opacity=\"1\"/>\n",
       "<defs>\n",
       "  <clipPath id=\"clip192\">\n",
       "    <rect x=\"219\" y=\"47\" width=\"2134\" height=\"1377\"/>\n",
       "  </clipPath>\n",
       "</defs>\n",
       "<polyline clip-path=\"url(#clip192)\" style=\"stroke:#000000; stroke-linecap:round; stroke-linejoin:round; stroke-width:2; stroke-opacity:0.1; fill:none\" points=\"280.231,1423.18 280.231,47.2441 \"/>\n",
       "<polyline clip-path=\"url(#clip192)\" style=\"stroke:#000000; stroke-linecap:round; stroke-linejoin:round; stroke-width:2; stroke-opacity:0.1; fill:none\" points=\"950.951,1423.18 950.951,47.2441 \"/>\n",
       "<polyline clip-path=\"url(#clip192)\" style=\"stroke:#000000; stroke-linecap:round; stroke-linejoin:round; stroke-width:2; stroke-opacity:0.1; fill:none\" points=\"1621.67,1423.18 1621.67,47.2441 \"/>\n",
       "<polyline clip-path=\"url(#clip192)\" style=\"stroke:#000000; stroke-linecap:round; stroke-linejoin:round; stroke-width:2; stroke-opacity:0.1; fill:none\" points=\"2292.39,1423.18 2292.39,47.2441 \"/>\n",
       "<polyline clip-path=\"url(#clip192)\" style=\"stroke:#000000; stroke-linecap:round; stroke-linejoin:round; stroke-width:2; stroke-opacity:0.1; fill:none\" points=\"219.866,1165.42 2352.76,1165.42 \"/>\n",
       "<polyline clip-path=\"url(#clip192)\" style=\"stroke:#000000; stroke-linecap:round; stroke-linejoin:round; stroke-width:2; stroke-opacity:0.1; fill:none\" points=\"219.866,804.822 2352.76,804.822 \"/>\n",
       "<polyline clip-path=\"url(#clip192)\" style=\"stroke:#000000; stroke-linecap:round; stroke-linejoin:round; stroke-width:2; stroke-opacity:0.1; fill:none\" points=\"219.866,444.224 2352.76,444.224 \"/>\n",
       "<polyline clip-path=\"url(#clip192)\" style=\"stroke:#000000; stroke-linecap:round; stroke-linejoin:round; stroke-width:2; stroke-opacity:0.1; fill:none\" points=\"219.866,83.6256 2352.76,83.6256 \"/>\n",
       "<polyline clip-path=\"url(#clip190)\" style=\"stroke:#000000; stroke-linecap:round; stroke-linejoin:round; stroke-width:4; stroke-opacity:1; fill:none\" points=\"219.866,1423.18 2352.76,1423.18 \"/>\n",
       "<polyline clip-path=\"url(#clip190)\" style=\"stroke:#000000; stroke-linecap:round; stroke-linejoin:round; stroke-width:4; stroke-opacity:1; fill:none\" points=\"280.231,1423.18 280.231,1404.28 \"/>\n",
       "<polyline clip-path=\"url(#clip190)\" style=\"stroke:#000000; stroke-linecap:round; stroke-linejoin:round; stroke-width:4; stroke-opacity:1; fill:none\" points=\"950.951,1423.18 950.951,1404.28 \"/>\n",
       "<polyline clip-path=\"url(#clip190)\" style=\"stroke:#000000; stroke-linecap:round; stroke-linejoin:round; stroke-width:4; stroke-opacity:1; fill:none\" points=\"1621.67,1423.18 1621.67,1404.28 \"/>\n",
       "<polyline clip-path=\"url(#clip190)\" style=\"stroke:#000000; stroke-linecap:round; stroke-linejoin:round; stroke-width:4; stroke-opacity:1; fill:none\" points=\"2292.39,1423.18 2292.39,1404.28 \"/>\n",
       "<path clip-path=\"url(#clip190)\" d=\"M270.613 1481.64 L278.252 1481.64 L278.252 1455.28 L269.942 1456.95 L269.942 1452.69 L278.206 1451.02 L282.882 1451.02 L282.882 1481.64 L290.52 1481.64 L290.52 1485.58 L270.613 1485.58 L270.613 1481.64 Z\" fill=\"#000000\" fill-rule=\"nonzero\" fill-opacity=\"1\" /><path clip-path=\"url(#clip190)\" d=\"M945.604 1481.64 L961.923 1481.64 L961.923 1485.58 L939.979 1485.58 L939.979 1481.64 Q942.641 1478.89 947.224 1474.26 Q951.831 1469.61 953.011 1468.27 Q955.257 1465.74 956.136 1464.01 Q957.039 1462.25 957.039 1460.56 Q957.039 1457.8 955.095 1456.07 Q953.173 1454.33 950.071 1454.33 Q947.872 1454.33 945.419 1455.09 Q942.988 1455.86 940.21 1457.41 L940.21 1452.69 Q943.034 1451.55 945.488 1450.97 Q947.942 1450.39 949.979 1450.39 Q955.349 1450.39 958.544 1453.08 Q961.738 1455.77 961.738 1460.26 Q961.738 1462.39 960.928 1464.31 Q960.141 1466.2 958.034 1468.8 Q957.456 1469.47 954.354 1472.69 Q951.252 1475.88 945.604 1481.64 Z\" fill=\"#000000\" fill-rule=\"nonzero\" fill-opacity=\"1\" /><path clip-path=\"url(#clip190)\" d=\"M1625.92 1466.95 Q1629.28 1467.66 1631.15 1469.93 Q1633.05 1472.2 1633.05 1475.53 Q1633.05 1480.65 1629.53 1483.45 Q1626.01 1486.25 1619.53 1486.25 Q1617.35 1486.25 1615.04 1485.81 Q1612.75 1485.39 1610.29 1484.54 L1610.29 1480.02 Q1612.24 1481.16 1614.55 1481.74 Q1616.87 1482.32 1619.39 1482.32 Q1623.79 1482.32 1626.08 1480.58 Q1628.4 1478.84 1628.4 1475.53 Q1628.4 1472.48 1626.24 1470.77 Q1624.11 1469.03 1620.29 1469.03 L1616.27 1469.03 L1616.27 1465.19 L1620.48 1465.19 Q1623.93 1465.19 1625.76 1463.82 Q1627.59 1462.43 1627.59 1459.84 Q1627.59 1457.18 1625.69 1455.77 Q1623.81 1454.33 1620.29 1454.33 Q1618.37 1454.33 1616.17 1454.75 Q1613.97 1455.16 1611.34 1456.04 L1611.34 1451.88 Q1614 1451.14 1616.31 1450.77 Q1618.65 1450.39 1620.71 1450.39 Q1626.03 1450.39 1629.14 1452.83 Q1632.24 1455.23 1632.24 1459.35 Q1632.24 1462.22 1630.59 1464.21 Q1628.95 1466.18 1625.92 1466.95 Z\" fill=\"#000000\" fill-rule=\"nonzero\" fill-opacity=\"1\" /><path clip-path=\"url(#clip190)\" d=\"M2295.4 1455.09 L2283.59 1473.54 L2295.4 1473.54 L2295.4 1455.09 M2294.17 1451.02 L2300.05 1451.02 L2300.05 1473.54 L2304.98 1473.54 L2304.98 1477.43 L2300.05 1477.43 L2300.05 1485.58 L2295.4 1485.58 L2295.4 1477.43 L2279.8 1477.43 L2279.8 1472.92 L2294.17 1451.02 Z\" fill=\"#000000\" fill-rule=\"nonzero\" fill-opacity=\"1\" /><path clip-path=\"url(#clip190)\" d=\"M1224.5 1529.24 Q1224.5 1531.07 1223.37 1532.17 Q1222.28 1533.26 1220.89 1533.26 Q1219.67 1533.26 1219.03 1532.56 Q1218.38 1531.85 1218.38 1530.95 Q1218.38 1530.56 1218.54 1530.08 Q1218.7 1529.56 1219.06 1528.95 Q1219.44 1528.34 1220.25 1527.89 Q1221.05 1527.44 1222.15 1527.37 Q1221.92 1527.15 1221.86 1527.11 Q1221.38 1526.73 1220.47 1526.6 Q1220.35 1526.53 1219.89 1526.53 Q1217.67 1526.53 1215.42 1528.18 Q1213.2 1529.79 1210.46 1532.85 Q1207.01 1536.42 1204.79 1537.74 Q1214.55 1539.03 1214.55 1544.67 Q1214.55 1545.6 1214.29 1546.73 Q1213.78 1548.85 1213.78 1550.4 Q1213.78 1553.49 1215.87 1553.49 Q1217.9 1553.49 1219.19 1551.43 Q1220.51 1549.37 1221.6 1545.34 Q1221.76 1544.6 1221.92 1544.38 Q1222.08 1544.15 1222.54 1544.15 Q1223.34 1544.15 1223.34 1544.79 Q1222.6 1548.56 1220.96 1551.46 Q1218.86 1554.97 1215.74 1554.97 Q1213.13 1554.97 1211.39 1553.17 Q1209.69 1551.33 1209.69 1548.43 Q1209.69 1547.73 1209.94 1546.12 Q1210.14 1545.47 1210.14 1544.73 Q1210.14 1543.22 1209.3 1542.09 Q1208.46 1540.93 1207.11 1540.35 Q1205.76 1539.77 1204.63 1539.51 Q1203.53 1539.22 1202.47 1539.13 Q1199.25 1552.75 1198.8 1553.59 Q1198.51 1554.17 1197.87 1554.55 Q1197.22 1554.97 1196.55 1554.97 Q1195.9 1554.97 1195.26 1554.52 Q1194.65 1554.1 1194.65 1553.1 Q1194.65 1552.59 1194.9 1551.65 L1204.47 1513.65 L1204.66 1512.36 Q1204.66 1511.98 1204.5 1511.78 Q1204.37 1511.56 1203.6 1511.4 Q1202.86 1511.24 1201.38 1511.24 Q1200.76 1511.24 1200.47 1511.2 Q1200.22 1511.17 1199.99 1511.01 Q1199.77 1510.82 1199.77 1510.43 Q1199.77 1509.88 1199.99 1509.59 Q1200.25 1509.27 1200.44 1509.21 Q1200.64 1509.14 1201.02 1509.11 Q1201.57 1509.08 1203.41 1508.92 Q1205.24 1508.72 1206.82 1508.6 Q1208.4 1508.47 1209.07 1508.47 Q1209.46 1508.47 1209.65 1508.66 Q1209.88 1508.82 1209.91 1509.01 L1209.94 1509.17 L1203.08 1537 Q1205.92 1535.87 1210.39 1530.88 Q1215.58 1525.08 1220.02 1525.08 Q1222.12 1525.08 1223.31 1526.37 Q1224.5 1527.63 1224.5 1529.24 Z\" fill=\"#000000\" fill-rule=\"nonzero\" fill-opacity=\"1\" /><path clip-path=\"url(#clip190)\" d=\"M1264.21 1548.55 Q1264.21 1550.65 1262.76 1552.54 Q1261.34 1554.41 1259.18 1555.6 Q1257.02 1556.78 1254.56 1557.23 Q1257.87 1557.61 1259.79 1559.41 Q1261.73 1561.22 1261.73 1563.74 Q1261.73 1565.43 1260.74 1567.22 Q1259.77 1568.97 1258.1 1570.42 Q1256.45 1571.86 1254.02 1572.78 Q1251.61 1573.71 1248.97 1573.71 L1232.49 1573.71 Q1231.97 1573.71 1231.77 1573.69 Q1231.56 1573.66 1231.41 1573.55 Q1231.25 1573.44 1231.25 1573.19 Q1231.25 1572.74 1231.41 1572.54 Q1231.59 1572.33 1231.79 1572.31 Q1231.99 1572.29 1232.49 1572.29 Q1233.62 1572.29 1234.29 1572.22 Q1234.97 1572.15 1235.4 1572.06 Q1235.85 1571.95 1236.07 1571.63 Q1236.32 1571.32 1236.43 1571.05 Q1236.55 1570.75 1236.7 1570.1 L1242.88 1545.3 Q1243.06 1544.56 1243.06 1544.45 Q1243.06 1544.02 1242.79 1543.9 Q1242.54 1543.77 1241.82 1543.7 L1240.06 1543.61 Q1239.52 1543.61 1239.3 1543.59 Q1239.09 1543.57 1238.94 1543.45 Q1238.78 1543.34 1238.78 1543.09 Q1238.78 1542.46 1239.05 1542.33 Q1239.34 1542.17 1240.11 1542.17 L1255.62 1542.17 Q1259.61 1542.17 1261.91 1544.02 Q1264.21 1545.84 1264.21 1548.55 M1260.01 1548.37 Q1260.01 1547.51 1259.79 1546.75 Q1259.56 1545.98 1259.02 1545.23 Q1258.5 1544.49 1257.47 1544.06 Q1256.43 1543.61 1254.99 1543.61 L1249.01 1543.61 Q1247.55 1543.61 1247.19 1543.88 Q1246.85 1544.13 1246.53 1545.37 L1243.67 1556.8 L1250.41 1556.8 Q1252.46 1556.8 1254.27 1556.06 Q1256.09 1555.31 1257.33 1554.12 Q1258.57 1552.9 1259.29 1551.39 Q1260.01 1549.88 1260.01 1548.37 M1257.42 1563.22 Q1257.42 1562.55 1257.31 1561.89 Q1257.2 1561.24 1256.84 1560.47 Q1256.47 1559.71 1255.91 1559.14 Q1255.35 1558.58 1254.36 1558.2 Q1253.39 1557.81 1252.12 1557.81 L1243.4 1557.81 L1240.2 1570.71 Q1239.97 1571.54 1239.97 1571.77 Q1239.97 1572.02 1240.09 1572.11 Q1240.22 1572.17 1240.58 1572.22 Q1240.99 1572.29 1241.6 1572.29 L1247.86 1572.29 Q1249.85 1572.29 1251.65 1571.52 Q1253.45 1570.73 1254.69 1569.47 Q1255.96 1568.21 1256.68 1566.56 Q1257.42 1564.92 1257.42 1563.22 Z\" fill=\"#000000\" fill-rule=\"nonzero\" fill-opacity=\"1\" /><path clip-path=\"url(#clip190)\" d=\"M1315.79 1510.3 Q1315.79 1510.91 1315.66 1511.43 L1313.86 1522.89 Q1313.76 1523.76 1313.57 1524.09 Q1313.4 1524.41 1312.89 1524.41 Q1312.08 1524.41 1312.08 1523.57 Q1312.08 1523.09 1312.28 1522.31 Q1312.83 1518.68 1312.83 1517.03 Q1312.83 1515.94 1312.6 1515.13 Q1312.41 1514.3 1312.08 1513.72 Q1311.79 1513.14 1311.12 1512.75 Q1310.44 1512.36 1309.8 1512.14 Q1309.15 1511.91 1307.99 1511.82 Q1306.83 1511.69 1305.84 1511.65 Q1304.84 1511.62 1303.2 1511.62 Q1299.62 1511.62 1299.04 1511.75 Q1298.43 1511.91 1298.11 1512.4 Q1297.82 1512.85 1297.5 1514.2 L1288.74 1549.21 L1288.48 1550.59 Q1288.48 1551.36 1288.96 1551.62 Q1289.44 1551.88 1290.93 1552.04 Q1293.05 1552.2 1295.14 1552.2 Q1295.21 1552.2 1295.34 1552.2 Q1296.05 1552.2 1296.34 1552.23 Q1296.63 1552.23 1296.92 1552.3 Q1297.21 1552.36 1297.27 1552.52 Q1297.37 1552.65 1297.37 1552.91 Q1297.37 1553.52 1297.11 1553.84 Q1296.85 1554.13 1296.59 1554.2 Q1296.37 1554.23 1295.92 1554.23 Q1295.02 1554.23 1293.08 1554.17 Q1291.15 1554.1 1290.18 1554.1 L1284.71 1554.04 L1279.11 1554.1 Q1278.24 1554.1 1276.4 1554.17 Q1274.56 1554.23 1273.7 1554.23 Q1272.57 1554.23 1272.57 1553.43 Q1272.57 1552.52 1272.99 1552.36 Q1273.44 1552.2 1275.34 1552.2 Q1278.01 1552.2 1279.46 1552.07 Q1280.91 1551.94 1281.68 1551.49 Q1282.49 1551.04 1282.71 1550.59 Q1282.94 1550.11 1283.2 1549.01 L1292.05 1513.81 Q1292.31 1513.04 1292.31 1512.43 Q1292.31 1512.11 1292.21 1511.98 Q1292.15 1511.85 1291.73 1511.75 Q1291.31 1511.62 1290.44 1511.62 L1287.87 1511.62 Q1285.22 1511.62 1283.58 1511.75 Q1281.97 1511.85 1280.43 1512.33 Q1278.91 1512.81 1278.01 1513.49 Q1277.14 1514.17 1276.17 1515.55 Q1275.21 1516.94 1274.5 1518.61 Q1273.82 1520.29 1272.86 1523.02 Q1272.54 1523.93 1272.34 1524.18 Q1272.18 1524.41 1271.73 1524.41 Q1271.41 1524.41 1271.15 1524.22 Q1270.93 1523.99 1270.93 1523.7 Q1271.25 1522.64 1271.31 1522.51 L1275.27 1510.88 Q1275.6 1509.95 1275.89 1509.79 Q1276.21 1509.59 1277.4 1509.59 L1313.98 1509.59 Q1314.56 1509.59 1314.76 1509.59 Q1314.95 1509.59 1315.27 1509.66 Q1315.59 1509.72 1315.69 1509.88 Q1315.79 1510.04 1315.79 1510.3 Z\" fill=\"#000000\" fill-rule=\"nonzero\" fill-opacity=\"1\" /><path clip-path=\"url(#clip190)\" d=\"M1309.08 1569.79 Q1309.08 1569.46 1309.33 1568.76 L1332.62 1506.53 Q1332.62 1506.47 1332.78 1506.12 Q1332.94 1505.76 1333.04 1505.54 Q1333.13 1505.28 1333.33 1505.08 Q1333.55 1504.89 1333.81 1504.89 Q1334.45 1504.89 1334.45 1505.7 Q1334.45 1505.76 1334.26 1506.53 L1310.91 1568.82 Q1310.53 1569.95 1310.27 1570.27 Q1310.04 1570.59 1309.66 1570.59 Q1309.08 1570.59 1309.08 1569.79 Z\" fill=\"#000000\" fill-rule=\"nonzero\" fill-opacity=\"1\" /><path clip-path=\"url(#clip190)\" d=\"M1378.81 1509.98 Q1378.81 1510.59 1378.55 1510.88 Q1378.29 1511.14 1378 1511.2 Q1377.71 1511.24 1377.04 1511.24 Q1375.65 1511.24 1374.91 1511.33 Q1374.17 1511.43 1373.72 1511.85 Q1373.27 1512.23 1373.11 1512.62 Q1372.98 1513.01 1372.75 1514.01 L1365.02 1544.79 Q1363.83 1549.53 1359.52 1552.62 Q1355.2 1555.68 1350.47 1555.68 Q1346.6 1555.68 1344.16 1553.65 Q1341.74 1551.59 1341.74 1548.5 Q1341.74 1546.92 1342.26 1545.79 Q1342.77 1544.67 1343.54 1544.15 Q1344.32 1543.64 1344.96 1543.44 Q1345.64 1543.22 1346.18 1543.22 Q1347.25 1543.22 1348.15 1543.89 Q1349.08 1544.57 1349.08 1545.99 Q1349.08 1547.56 1347.86 1548.88 Q1346.64 1550.21 1344.8 1550.21 Q1344.19 1550.21 1343.99 1550.14 Q1344.48 1551.72 1345.73 1552.72 Q1346.99 1553.68 1348.08 1553.97 Q1349.21 1554.23 1350.27 1554.23 Q1353.04 1554.23 1355.85 1551.56 Q1358.65 1548.88 1359.78 1544.34 L1367.34 1514.07 Q1367.6 1513.04 1367.6 1512.69 Q1367.6 1512.01 1367.18 1511.78 Q1366.8 1511.53 1365.57 1511.36 Q1363.93 1511.24 1361.74 1511.24 Q1360.97 1511.24 1360.64 1511.24 Q1360.32 1511.2 1360 1511.14 Q1359.68 1511.08 1359.58 1510.95 Q1359.49 1510.79 1359.49 1510.5 Q1359.49 1509.88 1359.74 1509.59 Q1360 1509.27 1360.23 1509.24 Q1360.45 1509.17 1360.87 1509.17 L1370.56 1509.37 Q1371.4 1509.37 1374.24 1509.27 Q1377.07 1509.17 1377.91 1509.17 Q1378.81 1509.17 1378.81 1509.98 Z\" fill=\"#000000\" fill-rule=\"nonzero\" fill-opacity=\"1\" /><polyline clip-path=\"url(#clip190)\" style=\"stroke:#000000; stroke-linecap:round; stroke-linejoin:round; stroke-width:4; stroke-opacity:1; fill:none\" points=\"219.866,1423.18 219.866,47.2441 \"/>\n",
       "<polyline clip-path=\"url(#clip190)\" style=\"stroke:#000000; stroke-linecap:round; stroke-linejoin:round; stroke-width:4; stroke-opacity:1; fill:none\" points=\"219.866,1165.42 238.764,1165.42 \"/>\n",
       "<polyline clip-path=\"url(#clip190)\" style=\"stroke:#000000; stroke-linecap:round; stroke-linejoin:round; stroke-width:4; stroke-opacity:1; fill:none\" points=\"219.866,804.822 238.764,804.822 \"/>\n",
       "<polyline clip-path=\"url(#clip190)\" style=\"stroke:#000000; stroke-linecap:round; stroke-linejoin:round; stroke-width:4; stroke-opacity:1; fill:none\" points=\"219.866,444.224 238.764,444.224 \"/>\n",
       "<polyline clip-path=\"url(#clip190)\" style=\"stroke:#000000; stroke-linecap:round; stroke-linejoin:round; stroke-width:4; stroke-opacity:1; fill:none\" points=\"219.866,83.6256 238.764,83.6256 \"/>\n",
       "<path clip-path=\"url(#clip190)\" d=\"M126.205 1151.22 Q122.593 1151.22 120.765 1154.78 Q118.959 1158.33 118.959 1165.45 Q118.959 1172.56 120.765 1176.13 Q122.593 1179.67 126.205 1179.67 Q129.839 1179.67 131.644 1176.13 Q133.473 1172.56 133.473 1165.45 Q133.473 1158.33 131.644 1154.78 Q129.839 1151.22 126.205 1151.22 M126.205 1147.52 Q132.015 1147.52 135.07 1152.12 Q138.149 1156.71 138.149 1165.45 Q138.149 1174.18 135.07 1178.79 Q132.015 1183.37 126.205 1183.37 Q120.394 1183.37 117.316 1178.79 Q114.26 1174.18 114.26 1165.45 Q114.26 1156.71 117.316 1152.12 Q120.394 1147.52 126.205 1147.52 Z\" fill=\"#000000\" fill-rule=\"nonzero\" fill-opacity=\"1\" /><path clip-path=\"url(#clip190)\" d=\"M146.366 1176.82 L151.251 1176.82 L151.251 1182.7 L146.366 1182.7 L146.366 1176.82 Z\" fill=\"#000000\" fill-rule=\"nonzero\" fill-opacity=\"1\" /><path clip-path=\"url(#clip190)\" d=\"M174.283 1152.21 L162.477 1170.66 L174.283 1170.66 L174.283 1152.21 M173.056 1148.14 L178.936 1148.14 L178.936 1170.66 L183.866 1170.66 L183.866 1174.55 L178.936 1174.55 L178.936 1182.7 L174.283 1182.7 L174.283 1174.55 L158.681 1174.55 L158.681 1170.04 L173.056 1148.14 Z\" fill=\"#000000\" fill-rule=\"nonzero\" fill-opacity=\"1\" /><path clip-path=\"url(#clip190)\" d=\"M126.529 790.621 Q122.918 790.621 121.089 794.186 Q119.283 797.727 119.283 804.857 Q119.283 811.963 121.089 815.528 Q122.918 819.07 126.529 819.07 Q130.163 819.07 131.968 815.528 Q133.797 811.963 133.797 804.857 Q133.797 797.727 131.968 794.186 Q130.163 790.621 126.529 790.621 M126.529 786.917 Q132.339 786.917 135.394 791.524 Q138.473 796.107 138.473 804.857 Q138.473 813.584 135.394 818.19 Q132.339 822.773 126.529 822.773 Q120.718 822.773 117.64 818.19 Q114.584 813.584 114.584 804.857 Q114.584 796.107 117.64 791.524 Q120.718 786.917 126.529 786.917 Z\" fill=\"#000000\" fill-rule=\"nonzero\" fill-opacity=\"1\" /><path clip-path=\"url(#clip190)\" d=\"M146.691 816.222 L151.575 816.222 L151.575 822.102 L146.691 822.102 L146.691 816.222 Z\" fill=\"#000000\" fill-rule=\"nonzero\" fill-opacity=\"1\" /><path clip-path=\"url(#clip190)\" d=\"M172.339 802.959 Q169.19 802.959 167.339 805.111 Q165.51 807.264 165.51 811.014 Q165.51 814.741 167.339 816.917 Q169.19 819.07 172.339 819.07 Q175.487 819.07 177.315 816.917 Q179.167 814.741 179.167 811.014 Q179.167 807.264 177.315 805.111 Q175.487 802.959 172.339 802.959 M181.621 788.306 L181.621 792.565 Q179.862 791.732 178.056 791.292 Q176.274 790.852 174.514 790.852 Q169.885 790.852 167.431 793.977 Q165.001 797.102 164.653 803.422 Q166.019 801.408 168.079 800.343 Q170.139 799.255 172.616 799.255 Q177.825 799.255 180.834 802.426 Q183.866 805.574 183.866 811.014 Q183.866 816.338 180.718 819.556 Q177.57 822.773 172.339 822.773 Q166.343 822.773 163.172 818.19 Q160.001 813.584 160.001 804.857 Q160.001 796.662 163.89 791.801 Q167.778 786.917 174.329 786.917 Q176.089 786.917 177.871 787.264 Q179.676 787.611 181.621 788.306 Z\" fill=\"#000000\" fill-rule=\"nonzero\" fill-opacity=\"1\" /><path clip-path=\"url(#clip190)\" d=\"M126.783 430.023 Q123.172 430.023 121.343 433.587 Q119.538 437.129 119.538 444.259 Q119.538 451.365 121.343 454.93 Q123.172 458.471 126.783 458.471 Q130.417 458.471 132.223 454.93 Q134.052 451.365 134.052 444.259 Q134.052 437.129 132.223 433.587 Q130.417 430.023 126.783 430.023 M126.783 426.319 Q132.593 426.319 135.649 430.925 Q138.728 435.509 138.728 444.259 Q138.728 452.985 135.649 457.592 Q132.593 462.175 126.783 462.175 Q120.973 462.175 117.894 457.592 Q114.839 452.985 114.839 444.259 Q114.839 435.509 117.894 430.925 Q120.973 426.319 126.783 426.319 Z\" fill=\"#000000\" fill-rule=\"nonzero\" fill-opacity=\"1\" /><path clip-path=\"url(#clip190)\" d=\"M146.945 455.624 L151.829 455.624 L151.829 461.504 L146.945 461.504 L146.945 455.624 Z\" fill=\"#000000\" fill-rule=\"nonzero\" fill-opacity=\"1\" /><path clip-path=\"url(#clip190)\" d=\"M172.014 445.092 Q168.681 445.092 166.76 446.874 Q164.862 448.657 164.862 451.782 Q164.862 454.907 166.76 456.689 Q168.681 458.471 172.014 458.471 Q175.348 458.471 177.269 456.689 Q179.19 454.883 179.19 451.782 Q179.19 448.657 177.269 446.874 Q175.371 445.092 172.014 445.092 M167.339 443.101 Q164.329 442.36 162.64 440.3 Q160.973 438.24 160.973 435.277 Q160.973 431.134 163.913 428.726 Q166.876 426.319 172.014 426.319 Q177.176 426.319 180.116 428.726 Q183.056 431.134 183.056 435.277 Q183.056 438.24 181.366 440.3 Q179.7 442.36 176.714 443.101 Q180.093 443.888 181.968 446.18 Q183.866 448.471 183.866 451.782 Q183.866 456.805 180.788 459.49 Q177.732 462.175 172.014 462.175 Q166.297 462.175 163.218 459.49 Q160.163 456.805 160.163 451.782 Q160.163 448.471 162.061 446.18 Q163.959 443.888 167.339 443.101 M165.626 435.717 Q165.626 438.402 167.292 439.907 Q168.982 441.411 172.014 441.411 Q175.024 441.411 176.714 439.907 Q178.426 438.402 178.426 435.717 Q178.426 433.032 176.714 431.527 Q175.024 430.023 172.014 430.023 Q168.982 430.023 167.292 431.527 Q165.626 433.032 165.626 435.717 Z\" fill=\"#000000\" fill-rule=\"nonzero\" fill-opacity=\"1\" /><path clip-path=\"url(#clip190)\" d=\"M117.501 96.9704 L125.14 96.9704 L125.14 70.6048 L116.83 72.2715 L116.83 68.0123 L125.093 66.3456 L129.769 66.3456 L129.769 96.9704 L137.408 96.9704 L137.408 100.906 L117.501 100.906 L117.501 96.9704 Z\" fill=\"#000000\" fill-rule=\"nonzero\" fill-opacity=\"1\" /><path clip-path=\"url(#clip190)\" d=\"M146.853 95.026 L151.737 95.026 L151.737 100.906 L146.853 100.906 L146.853 95.026 Z\" fill=\"#000000\" fill-rule=\"nonzero\" fill-opacity=\"1\" /><path clip-path=\"url(#clip190)\" d=\"M171.922 69.4243 Q168.311 69.4243 166.482 72.9891 Q164.677 76.5307 164.677 83.6603 Q164.677 90.7668 166.482 94.3316 Q168.311 97.8732 171.922 97.8732 Q175.556 97.8732 177.362 94.3316 Q179.19 90.7668 179.19 83.6603 Q179.19 76.5307 177.362 72.9891 Q175.556 69.4243 171.922 69.4243 M171.922 65.7206 Q177.732 65.7206 180.788 70.3271 Q183.866 74.9104 183.866 83.6603 Q183.866 92.3871 180.788 96.9936 Q177.732 101.577 171.922 101.577 Q166.112 101.577 163.033 96.9936 Q159.978 92.3871 159.978 83.6603 Q159.978 74.9104 163.033 70.3271 Q166.112 65.7206 171.922 65.7206 Z\" fill=\"#000000\" fill-rule=\"nonzero\" fill-opacity=\"1\" /><path clip-path=\"url(#clip190)\" d=\"M82.8134 793.006 Q83.3609 793.006 83.7473 793.393 Q84.1338 793.779 84.1338 794.327 Q84.1338 795.261 83.2643 795.583 L51.6059 807.853 Q51.4771 807.918 51.155 807.918 Q50.8329 807.918 50.7041 807.853 L19.0458 795.583 Q18.1762 795.261 18.1762 794.327 Q18.1762 793.779 18.5627 793.393 Q18.9491 793.006 19.4966 793.006 Q19.8187 793.006 19.9475 793.071 L51.155 805.212 L82.3625 793.071 Q82.4913 793.006 82.8134 793.006 Z\" fill=\"#000000\" fill-rule=\"nonzero\" fill-opacity=\"1\" /><path clip-path=\"url(#clip190)\" d=\"M40.7847 747.647 Q43.0391 747.647 43.0391 750.868 L43.0391 758.114 Q45.9377 756.085 50.221 756.085 Q53.8925 756.085 57.3385 757.599 Q60.7524 759.08 63.1356 761.464 Q65.5188 763.815 66.9681 766.778 Q68.3851 769.741 68.3851 772.639 Q68.3851 777.051 65.39 779.789 Q62.3949 782.526 57.9504 782.526 Q55.5994 782.526 52.9907 781.721 Q50.3821 780.884 47.9666 779.306 Q45.519 777.728 43.5544 775.666 Q41.5899 773.573 40.3982 770.868 Q39.2066 768.13 39.2066 765.264 L39.2066 750.224 Q39.2066 749.419 39.271 749 Q39.3032 748.549 39.6897 748.098 Q40.044 747.647 40.7847 747.647 M49.4481 760.304 Q48.6752 760.304 47.9988 760.401 Q47.2903 760.498 46.3563 760.852 Q45.3902 761.206 44.7138 761.818 Q44.0053 762.43 43.5222 763.621 Q43.0391 764.781 43.0391 766.359 Q43.0391 768.581 44.263 771.029 Q45.4868 773.476 48.5141 775.344 Q51.0906 776.89 54.44 777.663 Q57.7894 778.436 59.7862 778.436 Q63.2 778.436 65.0679 776.794 Q66.9037 775.119 66.9037 772.575 Q66.9037 770.481 65.4866 768.098 Q64.0374 765.715 61.2999 763.879 Q58.9166 762.269 55.4384 761.303 Q51.9602 760.304 49.4481 760.304 Z\" fill=\"#000000\" fill-rule=\"nonzero\" fill-opacity=\"1\" /><path clip-path=\"url(#clip190)\" d=\"M40.7847 710.358 Q43.0391 710.358 43.0391 713.579 L43.0391 720.825 Q45.9377 718.796 50.221 718.796 Q53.8925 718.796 57.3385 720.31 Q60.7524 721.791 63.1356 724.174 Q65.5188 726.525 66.9681 729.488 Q68.3851 732.451 68.3851 735.35 Q68.3851 739.762 65.39 742.499 Q62.3949 745.237 57.9504 745.237 Q55.5994 745.237 52.9907 744.432 Q50.3821 743.594 47.9666 742.016 Q45.519 740.438 43.5544 738.377 Q41.5899 736.284 40.3982 733.578 Q39.2066 730.841 39.2066 727.975 L39.2066 712.935 Q39.2066 712.129 39.271 711.711 Q39.3032 711.26 39.6897 710.809 Q40.044 710.358 40.7847 710.358 M49.4481 723.015 Q48.6752 723.015 47.9988 723.112 Q47.2903 723.208 46.3563 723.562 Q45.3902 723.917 44.7138 724.529 Q44.0053 725.141 43.5222 726.332 Q43.0391 727.492 43.0391 729.07 Q43.0391 731.292 44.263 733.739 Q45.4868 736.187 48.5141 738.055 Q51.0906 739.601 54.44 740.374 Q57.7894 741.147 59.7862 741.147 Q63.2 741.147 65.0679 739.504 Q66.9037 737.83 66.9037 735.285 Q66.9037 733.192 65.4866 730.809 Q64.0374 728.426 61.2999 726.59 Q58.9166 724.98 55.4384 724.013 Q51.9602 723.015 49.4481 723.015 Z\" fill=\"#000000\" fill-rule=\"nonzero\" fill-opacity=\"1\" /><path clip-path=\"url(#clip190)\" d=\"M16.9572 694.851 Q17.4982 694.851 17.8364 695.122 L29.8749 702.426 L29.8749 703.666 L16.1681 698.12 Q15.7623 697.985 15.4918 697.556 Q15.1987 697.128 15.1987 696.609 Q15.1987 695.888 15.7172 695.37 Q16.2357 694.851 16.9572 694.851 Z\" fill=\"#000000\" fill-rule=\"nonzero\" fill-opacity=\"1\" /><path clip-path=\"url(#clip190)\" d=\"M50.7041 673.083 Q50.8329 673.019 51.155 673.019 Q51.4771 673.019 51.6059 673.083 L83.2643 685.353 Q84.1338 685.675 84.1338 686.577 Q84.1338 687.125 83.7473 687.511 Q83.3609 687.898 82.8134 687.898 Q82.4913 687.898 82.3625 687.833 L51.155 675.724 L19.9475 687.833 Q19.8187 687.898 19.4966 687.898 Q18.9491 687.898 18.5627 687.511 Q18.1762 687.125 18.1762 686.577 Q18.1762 685.675 19.0458 685.353 L50.7041 673.083 Z\" fill=\"#000000\" fill-rule=\"nonzero\" fill-opacity=\"1\" /><polyline clip-path=\"url(#clip192)\" style=\"stroke:#009af9; stroke-linecap:round; stroke-linejoin:round; stroke-width:4; stroke-opacity:1; fill:none\" points=\"280.231,86.1857 330.535,88.1846 380.839,91.196 431.143,95.5047 481.447,101.421 531.751,109.279 582.055,119.443 632.359,132.308 682.663,148.315 732.967,167.965 783.271,191.845 833.575,220.674 883.879,255.37 934.183,297.184 984.487,347.97 1034.79,410.839 1085.1,492.055 1135.4,603.459 1185.7,731.546 1236.01,823.739 1286.31,889.336 1336.62,943.346 1386.92,990.025 1437.22,1031.18 1487.53,1067.93 1537.83,1101.07 1588.14,1131.19 1638.44,1158.73 1688.74,1184.06 1739.05,1207.46 1789.35,1229.16 1839.66,1249.36 1889.96,1268.22 1940.26,1285.88 1990.57,1302.46 2040.87,1318.07 2091.18,1332.79 2141.48,1346.7 2191.78,1359.87 2242.09,1372.37 2292.39,1384.24 \"/>\n",
       "<path clip-path=\"url(#clip190)\" d=\"M2015.94 196.789 L2281.66 196.789 L2281.66 93.1086 L2015.94 93.1086  Z\" fill=\"#ffffff\" fill-rule=\"evenodd\" fill-opacity=\"1\"/>\n",
       "<polyline clip-path=\"url(#clip190)\" style=\"stroke:#000000; stroke-linecap:round; stroke-linejoin:round; stroke-width:4; stroke-opacity:1; fill:none\" points=\"2015.94,196.789 2281.66,196.789 2281.66,93.1086 2015.94,93.1086 2015.94,196.789 \"/>\n",
       "<polyline clip-path=\"url(#clip190)\" style=\"stroke:#009af9; stroke-linecap:round; stroke-linejoin:round; stroke-width:4; stroke-opacity:1; fill:none\" points=\"2039.64,144.949 2181.83,144.949 \"/>\n",
       "<path clip-path=\"url(#clip190)\" d=\"M2219.37 164.636 Q2217.57 169.266 2215.85 170.678 Q2214.14 172.09 2211.27 172.09 L2207.87 172.09 L2207.87 168.525 L2210.37 168.525 Q2212.13 168.525 2213.1 167.692 Q2214.07 166.858 2215.25 163.756 L2216.02 161.812 L2205.53 136.303 L2210.04 136.303 L2218.15 156.581 L2226.25 136.303 L2230.76 136.303 L2219.37 164.636 Z\" fill=\"#000000\" fill-rule=\"nonzero\" fill-opacity=\"1\" /><path clip-path=\"url(#clip190)\" d=\"M2238.05 158.293 L2245.69 158.293 L2245.69 131.928 L2237.38 133.595 L2237.38 129.335 L2245.65 127.669 L2250.32 127.669 L2250.32 158.293 L2257.96 158.293 L2257.96 162.229 L2238.05 162.229 L2238.05 158.293 Z\" fill=\"#000000\" fill-rule=\"nonzero\" fill-opacity=\"1\" /></svg>\n"
      ]
     },
     "metadata": {},
     "output_type": "display_data"
    }
   ],
   "source": [
    "# メイン\n",
    "\n",
    "# 定数の定義\n",
    "J = 1.0\n",
    "k_B = 1.0\n",
    "T_C = 2.0 / log(1 + sqrt(2))\n",
    "T = range(1.0, 4.0, length = 41)\n",
    "K_C = J / k_B / T_C\n",
    "K = J ./ k_B ./ T\n",
    "L = 20\n",
    "chi = 200\n",
    "Ls = [1]\n",
    "m = []\n",
    "mm = []\n",
    "\n",
    "# 計算\n",
    "\n",
    "for Ks in K\n",
    "    W, P, C = tensor_origin_fix(Ks)\n",
    "\n",
    "    for LL in 2:L\n",
    "        # 拡大\n",
    "        C = expand_tensor_2legs(W, P, C)\n",
    "        P = expand_tensor_3legs(W, P)\n",
    "\n",
    "        # 圧縮\n",
    "        if 2^LL > chi\n",
    "            C, P = compress_tensor(C, P, chi)\n",
    "        end\n",
    "    end\n",
    "\n",
    "    # 測定\n",
    "    G, O = environment_tensor(W, P, C)\n",
    "    push!(mm, measure_spin_correlation(W, G, O))\n",
    "\n",
    "    # メモリの解法\n",
    "    GC.gc()\n",
    "end\n",
    "\n",
    "plot(T, mm, xlabel = L\"k_BT/J\", ylabel = L\"\\langle\\sigma\\sigma^\\prime\\rangle\", title = \"\")"
   ]
  },
  {
   "cell_type": "code",
   "execution_count": 12,
   "id": "f4fac861",
   "metadata": {},
   "outputs": [],
   "source": [
    "GC.gc()"
   ]
  },
  {
   "cell_type": "code",
   "execution_count": null,
   "id": "d730bd55",
   "metadata": {},
   "outputs": [],
   "source": [
    "# メイン\n",
    "\n",
    "# 定数の定義\n",
    "J = 1.0\n",
    "k_B = 1.0\n",
    "T_C = 2.0 / log(1 + sqrt(2))\n",
    "T = range(1.0, 4.0, length = 41)\n",
    "K_C = J / k_B / T_C\n",
    "K = J ./ k_B ./ T\n",
    "L = 73\n",
    "chi = 5\n",
    "Ls = []\n",
    "m = []\n",
    "mm = []\n",
    "\n",
    "# 計算\n",
    "\n",
    "#for Ks in K\n",
    "    W, P, C = tensor_origin_fix(K_C)\n",
    "\n",
    "    for LL in 2:L\n",
    "        # 拡大\n",
    "        C = expand_tensor_2legs(W, P, C)\n",
    "        P = expand_tensor_3legs(W, P)\n",
    "\n",
    "        # 圧縮\n",
    "        if 2^LL > chi\n",
    "            C, P = compress_tensor(C, P, chi)\n",
    "        end\n",
    "\n",
    "        # 測定\n",
    "        G, O = environment_tensor(W, P, C)\n",
    "        push!(m, measure_magnetization(W, G, O))\n",
    "        push!(Ls, 2 * LL + 1)\n",
    "\n",
    "        # メモリの解法\n",
    "        GC.gc()\n",
    "    end\n",
    "\n",
    "#end\n",
    "\n",
    "xtick_vals = [1, 10, 100, 1000]\n",
    "xtick_labels = string.(xtick_vals)\n",
    "\n",
    "ytick_vals = [0.4, 0.5, 0.6, 0.7, 0.8, 0.9, 1.0]\n",
    "ytick_labels = string.(ytick_vals)\n",
    "\n",
    "println(Ls)\n",
    "plot(Ls, m, xscale=:log10, yscale=:log10, xticks = (xtick_vals, xtick_labels), yticks = (ytick_vals, ytick_labels), xlabel=L\"L\", ylabel=L\"\\langle\\sigma\\rangle\", title=\"\")\n"
   ]
  }
 ],
 "metadata": {
  "kernelspec": {
   "display_name": "Julia 1.11.5",
   "language": "julia",
   "name": "julia-1.11"
  },
  "language_info": {
   "file_extension": ".jl",
   "mimetype": "application/julia",
   "name": "julia",
   "version": "1.11.5"
  }
 },
 "nbformat": 4,
 "nbformat_minor": 5
}
