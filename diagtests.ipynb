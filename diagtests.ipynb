{
 "cells": [
  {
   "cell_type": "code",
   "execution_count": 1,
   "metadata": {},
   "outputs": [],
   "source": [
    "using ITensors\n",
    "using ITensorMPS\n",
    "using Random\n",
    "using LinearAlgebra"
   ]
  },
  {
   "cell_type": "code",
   "execution_count": 2,
   "metadata": {},
   "outputs": [
    {
     "data": {
      "text/plain": [
       "ITensor ord=2 (dim=10|id=868|\"i\") (dim=10|id=330|\"j\")\n",
       "NDTensors.Dense{Float64, Vector{Float64}}"
      ]
     },
     "metadata": {},
     "output_type": "display_data"
    }
   ],
   "source": [
    "# Create a random Hermite matrix\n",
    "using ITensors\n",
    "\n",
    "N = 10\n",
    "chi = 1\n",
    "\n",
    "I = Index(N, \"i\")\n",
    "J = Index(N, \"j\")\n",
    "\n",
    "# Create a random Hermite matrix\n",
    "mat = rand(N, N)\n",
    "hmat = mat' * mat\n",
    "H = ITensor(hmat, I, J)\n",
    "#T = randomITensor(I, J)\n",
    "#H = T + replaceinds(T, I => J, J => I)\n",
    "#Array(H, I, J)"
   ]
  },
  {
   "cell_type": "code",
   "execution_count": 3,
   "metadata": {},
   "outputs": [],
   "source": [
    "D, U = eigen(H, I, J)\n",
    ";"
   ]
  },
  {
   "cell_type": "code",
   "execution_count": 4,
   "metadata": {},
   "outputs": [
    {
     "name": "stdout",
     "output_type": "stream",
     "text": [
      "Dvec = ComplexF64[0.004314434221064016 + 0.0im, 0.014681183962911204 + 0.0im, 0.11101717370339538 + 0.0im, 0.32882468240794815 + 0.0im, 0.39550789873142045 + 0.0im, 0.7455667398674021 + 0.0im, 1.4886379135736607 + 0.0im, 1.6071123707108896 + 0.0im, 1.8252581968487351 + 0.0im, 34.09562950656832 + 0.0im]\n"
     ]
    },
    {
     "data": {
      "text/plain": [
       "true"
      ]
     },
     "metadata": {},
     "output_type": "display_data"
    }
   ],
   "source": [
    "Dvec = Vector(diag(D))\n",
    "Umat = Array(U, commonind(U, D), uniqueind(U, D))\n",
    "\n",
    "@show Dvec\n",
    "Umat' * diagm(Dvec) * Umat ≈ Array(H, I, J)"
   ]
  },
  {
   "cell_type": "code",
   "execution_count": 5,
   "metadata": {},
   "outputs": [
    {
     "name": "stdout",
     "output_type": "stream",
     "text": [
      "Dvec_trunc = ComplexF64[34.09562950656832 + 0.0im]\n"
     ]
    },
    {
     "data": {
      "text/plain": [
       "false"
      ]
     },
     "metadata": {},
     "output_type": "display_data"
    }
   ],
   "source": [
    "Dvec_trunc = Dvec[end-chi+1:end]\n",
    "Umat_trunc = Umat[end-chi+1:end, :]\n",
    "\n",
    "@show Dvec_trunc\n",
    "\n",
    "Umat_trunc' * diagm(Dvec_trunc) * Umat_trunc ≈ Array(H, I, J)"
   ]
  },
  {
   "cell_type": "code",
   "execution_count": 6,
   "metadata": {},
   "outputs": [
    {
     "data": {
      "text/plain": [
       "ITensor ord=2 (dim=1|id=968|\"chi\") (dim=10|id=330|\"j\")\n",
       "NDTensors.Dense{ComplexF64, Vector{ComplexF64}}"
      ]
     },
     "metadata": {},
     "output_type": "display_data"
    }
   ],
   "source": [
    "chi_idx = Index(chi, \"chi\")\n",
    "\n",
    "D_trunc = diag_itensor(Dvec_trunc, chi_idx, chi_idx')\n",
    "U_trunc = itensor(Umat_trunc, chi_idx, J)"
   ]
  }
 ],
 "metadata": {
  "kernelspec": {
   "display_name": "Julia 1.10.4",
   "language": "julia",
   "name": "julia-1.10"
  },
  "language_info": {
   "file_extension": ".jl",
   "mimetype": "application/julia",
   "name": "julia",
   "version": "1.10.4"
  }
 },
 "nbformat": 4,
 "nbformat_minor": 2
}
