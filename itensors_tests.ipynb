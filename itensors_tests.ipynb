{
 "cells": [
  {
   "cell_type": "code",
   "execution_count": 1,
   "metadata": {},
   "outputs": [],
   "source": [
    "using ITensors"
   ]
  },
  {
   "cell_type": "code",
   "execution_count": null,
   "metadata": {},
   "outputs": [],
   "source": [
    "function compress_expansion(C::NormalizedTensor, P::NormalizedTensor, chi::Int64)\n",
    "    z, w = inds(C.tensor)\n",
    "\n",
    "    D, U = eigen(C.tensor, z, w)\n",
    "\n",
    "    n = dim(z)\n",
    "\n",
    "    p = Index(chi, \"p\")\n",
    "    q = Index(chi, \"q\")\n",
    "\n",
    "    C_compressed = ITensor(p, q)\n",
    "\n",
    "    for ii in 1:chi, jj in 1:chi\n",
    "        C_compressed[p=>ii, q=>jj] = D[inds(D)[1]=>n-ii+1, inds(D)[2]=>n-jj+1]\n",
    "    end\n",
    "\n",
    "    NC_compressed = normalize_tensor(C_compressed)\n",
    "    norm_C = C.norm * NC_compressed.norm\n",
    "\n",
    "    inds_U = inds(U)\n",
    "    NU = normalize_tensor(U)\n",
    "\n",
    "    u = Index(dim(inds(U)[1]), \"u\")\n",
    "    v = Index(chi, \"v\")\n",
    "\n",
    "    U_compressed = ITensor(u, v)\n",
    "\n",
    "    for ii in 1:n, jj in 1:chi\n",
    "        U_compressed[u=>ii, v=>jj] = NU.tensor[inds_U[1]=>n-ii+1, inds_U[2]=>n-jj+1]\n",
    "    end\n",
    "\n",
    "    inds_U_compressed = inds(U_compressed)\n",
    "    inds_P = inds(P.tensor)\n",
    "    n_u = dim(inds_U_compressed[1])\n",
    "    m_u = dim(inds_U_compressed[2])\n",
    "\n",
    "    a = Index(n_u, \"a\")\n",
    "    b = Index(m_u, \"b\")\n",
    "    c = Index(n_u, \"c\")\n",
    "    d = Index(m_u, \"d\")\n",
    "    e = Index(dim(inds_P[1]), \"e\")\n",
    "\n",
    "    inds_new_U_compressed_l = [a, b]\n",
    "    inds_new_U_compressed_r = [c, d]\n",
    "    inds_new_P = [e, a, c]\n",
    "\n",
    "    U_compressed_l = replaceinds(U_compressed, inds_U_compressed, inds_new_U_compressed_l)\n",
    "    U_compressed_r = replaceinds(U_compressed, inds_U_compressed, inds_new_U_compressed_r)\n",
    "    P_b = replaceinds(P.tensor, inds_P, inds_new_P)\n",
    "\n",
    "    P_compressed = P_b * U_compressed_l * U_compressed_r\n",
    "    return NormalizedTensor(NC_compressed.tensor, norm_C), NormalizedTensor(NP_compressed.tensor, norm_P)\n",
    "end"
   ]
  }
 ],
 "metadata": {
  "kernelspec": {
   "display_name": "Julia 1.10.4",
   "language": "julia",
   "name": "julia-1.10"
  },
  "language_info": {
   "file_extension": ".jl",
   "mimetype": "application/julia",
   "name": "julia",
   "version": "1.10.4"
  }
 },
 "nbformat": 4,
 "nbformat_minor": 2
}
